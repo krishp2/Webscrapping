{
 "cells": [
  {
   "cell_type": "code",
   "execution_count": 3,
   "id": "558a3cd2",
   "metadata": {},
   "outputs": [],
   "source": [
    "import pandas as pd\n",
    "from bs4 import BeautifulSoup\n",
    "import requests\n",
    "import time\n",
    "\n",
    "url = \"https://www.amazon.in/s?k=kettle&page={}&crid=2M096C61O4MLT&qid=1685083765&sprefix=ba%2Caps%2C283&ref=sr_pg_2\"\n",
    "num_pages = 20\n",
    "\n",
    "\n",
    "rows = []\n",
    "for page in range(1, num_pages + 1):\n",
    "    page_url = url.format(page)\n",
    "    retry_count = 0\n",
    "    while retry_count < 100:  \n",
    "        try:\n",
    "            response = requests.get(page_url)\n",
    "            if response.status_code == 503:\n",
    "                #print(\"trying\", page)\n",
    "                time.sleep(5)  \n",
    "                retry_count += 1\n",
    "                continue\n",
    "\n",
    "            response.raise_for_status()  \n",
    "            time.sleep(3)  \n",
    "\n",
    "            soup = BeautifulSoup(response.content, \"html.parser\")\n",
    "            products = soup.find_all(\"div\", class_=\"sg-col-inner\")\n",
    "\n",
    "            for product in products:\n",
    "                new_row = []  \n",
    "\n",
    "                url_element = product.find(\"a\", class_=\"a-link-normal s-underline-text s-underline-link-text s-link-style a-text-normal\")\n",
    "                if url_element:\n",
    "                    product_url = \"https://www.amazon.in\" + url_element[\"href\"]\n",
    "                    new_row.append(product_url)\n",
    "\n",
    "                    name_element = product.find(\"span\", class_=\"a-size-medium a-color-base a-text-normal\")\n",
    "                    if name_element:\n",
    "                        product_name = name_element.text.strip()\n",
    "                        new_row.append(product_name)\n",
    "                    else:\n",
    "                        new_row.append(\"\")  \n",
    "\n",
    "                    price_element = product.find(\"span\", class_=\"a-price-whole\")\n",
    "                    if price_element:\n",
    "                        product_price = price_element.text.strip()\n",
    "                        new_row.append(product_price)\n",
    "                    else:\n",
    "                        new_row.append(\"\") \n",
    "\n",
    "                    rating_element = product.find(\"span\", class_=\"a-icon-alt\")\n",
    "                    if rating_element:\n",
    "                        product_rating = rating_element.text.strip()\n",
    "                        new_row.append(product_rating)\n",
    "                    else:\n",
    "                        new_row.append(\"\")  \n",
    "\n",
    "                    reviews_element = product.find(\"span\", class_=\"a-size-base s-underline-text\")\n",
    "                    if reviews_element:\n",
    "                        product_reviews_count = reviews_element.text.strip()\n",
    "                        new_row.append(product_reviews_count)\n",
    "                    else:\n",
    "                        new_row.append(\"\")  \n",
    "\n",
    "                    rows.append(new_row)  \n",
    "            break  \n",
    "        except requests.exceptions.HTTPError as err:\n",
    "            print(\"HTTP error occurred:\", err)\n",
    "            retry_count += 1  \n",
    "        except requests.exceptions.RequestException as err:\n",
    "            print(\"An error occurred:\", err)\n",
    "            retry_count += 1  \n",
    "\n",
    "df = pd.DataFrame(rows, columns=['Product URL', 'Product Name', 'Product Price', 'Rating','Number of reviews'])\n",
    "df = pd.DataFrame(rows, columns=['Product URL', 'Product Name', 'Product Price', 'Rating', 'Number of Reviews'])\n",
    "df = df.drop_duplicates(subset=['Product URL','Product Name', 'Product Price', 'Rating', 'Number of Reviews'])\n",
    "df = df.reset_index(drop=True)\n",
    "#df.to_csv(\"kettle_price.csv\")\n"
   ]
  },
  {
   "cell_type": "code",
   "execution_count": 91,
   "id": "a8587723",
   "metadata": {},
   "outputs": [
    {
     "data": {
      "text/html": [
       "<div>\n",
       "<style scoped>\n",
       "    .dataframe tbody tr th:only-of-type {\n",
       "        vertical-align: middle;\n",
       "    }\n",
       "\n",
       "    .dataframe tbody tr th {\n",
       "        vertical-align: top;\n",
       "    }\n",
       "\n",
       "    .dataframe thead th {\n",
       "        text-align: right;\n",
       "    }\n",
       "</style>\n",
       "<table border=\"1\" class=\"dataframe\">\n",
       "  <thead>\n",
       "    <tr style=\"text-align: right;\">\n",
       "      <th></th>\n",
       "      <th>Unnamed: 0</th>\n",
       "      <th>Product URL</th>\n",
       "      <th>Product Name</th>\n",
       "      <th>Product Price</th>\n",
       "      <th>Rating</th>\n",
       "      <th>Number of Reviews</th>\n",
       "    </tr>\n",
       "  </thead>\n",
       "  <tbody>\n",
       "    <tr>\n",
       "      <th>0</th>\n",
       "      <td>0</td>\n",
       "      <td>https://www.amazon.in/Pigeon-Electric-Stainles...</td>\n",
       "      <td>Pigeon Amaze Plus Electric Kettle 1.5 L, 1500 ...</td>\n",
       "      <td>599</td>\n",
       "      <td>3.9 out of 5 stars</td>\n",
       "      <td>149,546</td>\n",
       "    </tr>\n",
       "    <tr>\n",
       "      <th>1</th>\n",
       "      <td>1</td>\n",
       "      <td>https://www.amazon.in/Prestige-Electric-Kettle...</td>\n",
       "      <td>Prestige 1.5 Litres Electric Kettle (PKOSS 1.5...</td>\n",
       "      <td>699</td>\n",
       "      <td>3.9 out of 5 stars</td>\n",
       "      <td>68,502</td>\n",
       "    </tr>\n",
       "    <tr>\n",
       "      <th>2</th>\n",
       "      <td>2</td>\n",
       "      <td>https://www.amazon.in/Pigeon-Multipurpose-1217...</td>\n",
       "      <td>Pigeon Amaze Multipurpose Kettle 600 Watt, 1.2...</td>\n",
       "      <td>899</td>\n",
       "      <td>3.8 out of 5 stars</td>\n",
       "      <td>17,616</td>\n",
       "    </tr>\n",
       "    <tr>\n",
       "      <th>3</th>\n",
       "      <td>3</td>\n",
       "      <td>https://www.amazon.in/Amazon-Basics-Electric-K...</td>\n",
       "      <td>NaN</td>\n",
       "      <td>599</td>\n",
       "      <td>4.0 out of 5 stars</td>\n",
       "      <td>739</td>\n",
       "    </tr>\n",
       "    <tr>\n",
       "      <th>4</th>\n",
       "      <td>4</td>\n",
       "      <td>https://www.amazon.in/Amazon-Basics-Electric-K...</td>\n",
       "      <td>NaN</td>\n",
       "      <td>599</td>\n",
       "      <td>4.0 out of 5 stars</td>\n",
       "      <td>379</td>\n",
       "    </tr>\n",
       "    <tr>\n",
       "      <th>...</th>\n",
       "      <td>...</td>\n",
       "      <td>...</td>\n",
       "      <td>...</td>\n",
       "      <td>...</td>\n",
       "      <td>...</td>\n",
       "      <td>...</td>\n",
       "    </tr>\n",
       "    <tr>\n",
       "      <th>313</th>\n",
       "      <td>313</td>\n",
       "      <td>https://www.amazon.in/Supvox%C2%AE-Electric-Po...</td>\n",
       "      <td>Supvox® 0.5 Litre Electric Kettle 300W Portabl...</td>\n",
       "      <td>2,698</td>\n",
       "      <td>NaN</td>\n",
       "      <td>NaN</td>\n",
       "    </tr>\n",
       "    <tr>\n",
       "      <th>314</th>\n",
       "      <td>314</td>\n",
       "      <td>https://www.amazon.in/VYATIRANG-Stainless-Auto...</td>\n",
       "      <td>VYATIRANG Electric Kettle with Handle &amp; Lid Do...</td>\n",
       "      <td>999</td>\n",
       "      <td>NaN</td>\n",
       "      <td>NaN</td>\n",
       "    </tr>\n",
       "    <tr>\n",
       "      <th>315</th>\n",
       "      <td>315</td>\n",
       "      <td>https://www.amazon.in/AxegooElectric-Kettle-St...</td>\n",
       "      <td>AxegooElectric Kettle Hot Water Kettle, 1.8L S...</td>\n",
       "      <td>369</td>\n",
       "      <td>3.9 out of 5 stars</td>\n",
       "      <td>4</td>\n",
       "    </tr>\n",
       "    <tr>\n",
       "      <th>316</th>\n",
       "      <td>316</td>\n",
       "      <td>https://www.amazon.in/AxegooElectric-Kettle-St...</td>\n",
       "      <td>AxegooElectric Kettle Hot Water Kettle, 1.8L S...</td>\n",
       "      <td>369</td>\n",
       "      <td>NaN</td>\n",
       "      <td>NaN</td>\n",
       "    </tr>\n",
       "    <tr>\n",
       "      <th>317</th>\n",
       "      <td>317</td>\n",
       "      <td>https://www.amazon.in/Prestige-Electric-Kettle...</td>\n",
       "      <td>Prestige Electric Kettle PKOSS - 1500watts, St...</td>\n",
       "      <td>1,498</td>\n",
       "      <td>3.9 out of 5 stars</td>\n",
       "      <td>4</td>\n",
       "    </tr>\n",
       "  </tbody>\n",
       "</table>\n",
       "<p>318 rows × 6 columns</p>\n",
       "</div>"
      ],
      "text/plain": [
       "     Unnamed: 0                                        Product URL  \\\n",
       "0             0  https://www.amazon.in/Pigeon-Electric-Stainles...   \n",
       "1             1  https://www.amazon.in/Prestige-Electric-Kettle...   \n",
       "2             2  https://www.amazon.in/Pigeon-Multipurpose-1217...   \n",
       "3             3  https://www.amazon.in/Amazon-Basics-Electric-K...   \n",
       "4             4  https://www.amazon.in/Amazon-Basics-Electric-K...   \n",
       "..          ...                                                ...   \n",
       "313         313  https://www.amazon.in/Supvox%C2%AE-Electric-Po...   \n",
       "314         314  https://www.amazon.in/VYATIRANG-Stainless-Auto...   \n",
       "315         315  https://www.amazon.in/AxegooElectric-Kettle-St...   \n",
       "316         316  https://www.amazon.in/AxegooElectric-Kettle-St...   \n",
       "317         317  https://www.amazon.in/Prestige-Electric-Kettle...   \n",
       "\n",
       "                                          Product Name Product Price  \\\n",
       "0    Pigeon Amaze Plus Electric Kettle 1.5 L, 1500 ...           599   \n",
       "1    Prestige 1.5 Litres Electric Kettle (PKOSS 1.5...           699   \n",
       "2    Pigeon Amaze Multipurpose Kettle 600 Watt, 1.2...           899   \n",
       "3                                                  NaN           599   \n",
       "4                                                  NaN           599   \n",
       "..                                                 ...           ...   \n",
       "313  Supvox® 0.5 Litre Electric Kettle 300W Portabl...         2,698   \n",
       "314  VYATIRANG Electric Kettle with Handle & Lid Do...           999   \n",
       "315  AxegooElectric Kettle Hot Water Kettle, 1.8L S...           369   \n",
       "316  AxegooElectric Kettle Hot Water Kettle, 1.8L S...           369   \n",
       "317  Prestige Electric Kettle PKOSS - 1500watts, St...         1,498   \n",
       "\n",
       "                 Rating Number of Reviews  \n",
       "0    3.9 out of 5 stars           149,546  \n",
       "1    3.9 out of 5 stars            68,502  \n",
       "2    3.8 out of 5 stars            17,616  \n",
       "3    4.0 out of 5 stars               739  \n",
       "4    4.0 out of 5 stars               379  \n",
       "..                  ...               ...  \n",
       "313                 NaN               NaN  \n",
       "314                 NaN               NaN  \n",
       "315  3.9 out of 5 stars                 4  \n",
       "316                 NaN               NaN  \n",
       "317  3.9 out of 5 stars                 4  \n",
       "\n",
       "[318 rows x 6 columns]"
      ]
     },
     "execution_count": 91,
     "metadata": {},
     "output_type": "execute_result"
    }
   ],
   "source": [
    "df = pd.read_csv(\"/Users/apple/Desktop/kettle_price.csv\", sep=',')\n",
    "df"
   ]
  },
  {
   "cell_type": "code",
   "execution_count": 92,
   "id": "aac01e96",
   "metadata": {},
   "outputs": [],
   "source": [
    "df['Rating'] = df['Rating'].str.replace(' out of 5 stars', '').astype(float)\n",
    "df['Product Price'] = df['Product Price'].str.replace(',', '').astype(float)\n",
    "df['Number of Reviews'] = df['Number of Reviews'].str.replace(',', '').astype(float)"
   ]
  },
  {
   "cell_type": "code",
   "execution_count": 93,
   "id": "4513a23a",
   "metadata": {},
   "outputs": [
    {
     "data": {
      "text/html": [
       "<div>\n",
       "<style scoped>\n",
       "    .dataframe tbody tr th:only-of-type {\n",
       "        vertical-align: middle;\n",
       "    }\n",
       "\n",
       "    .dataframe tbody tr th {\n",
       "        vertical-align: top;\n",
       "    }\n",
       "\n",
       "    .dataframe thead th {\n",
       "        text-align: right;\n",
       "    }\n",
       "</style>\n",
       "<table border=\"1\" class=\"dataframe\">\n",
       "  <thead>\n",
       "    <tr style=\"text-align: right;\">\n",
       "      <th></th>\n",
       "      <th>Unnamed: 0</th>\n",
       "      <th>Product URL</th>\n",
       "      <th>Product Name</th>\n",
       "      <th>Product Price</th>\n",
       "      <th>Rating</th>\n",
       "      <th>Number of Reviews</th>\n",
       "    </tr>\n",
       "  </thead>\n",
       "  <tbody>\n",
       "    <tr>\n",
       "      <th>0</th>\n",
       "      <td>0</td>\n",
       "      <td>https://www.amazon.in/Pigeon-Electric-Stainles...</td>\n",
       "      <td>Pigeon Amaze Plus Electric Kettle 1.5 L, 1500 ...</td>\n",
       "      <td>599.0</td>\n",
       "      <td>3.9</td>\n",
       "      <td>149546.0</td>\n",
       "    </tr>\n",
       "    <tr>\n",
       "      <th>1</th>\n",
       "      <td>1</td>\n",
       "      <td>https://www.amazon.in/Prestige-Electric-Kettle...</td>\n",
       "      <td>Prestige 1.5 Litres Electric Kettle (PKOSS 1.5...</td>\n",
       "      <td>699.0</td>\n",
       "      <td>3.9</td>\n",
       "      <td>68502.0</td>\n",
       "    </tr>\n",
       "    <tr>\n",
       "      <th>2</th>\n",
       "      <td>2</td>\n",
       "      <td>https://www.amazon.in/Pigeon-Multipurpose-1217...</td>\n",
       "      <td>Pigeon Amaze Multipurpose Kettle 600 Watt, 1.2...</td>\n",
       "      <td>899.0</td>\n",
       "      <td>3.8</td>\n",
       "      <td>17616.0</td>\n",
       "    </tr>\n",
       "    <tr>\n",
       "      <th>3</th>\n",
       "      <td>3</td>\n",
       "      <td>https://www.amazon.in/Amazon-Basics-Electric-K...</td>\n",
       "      <td>NaN</td>\n",
       "      <td>599.0</td>\n",
       "      <td>4.0</td>\n",
       "      <td>739.0</td>\n",
       "    </tr>\n",
       "    <tr>\n",
       "      <th>4</th>\n",
       "      <td>4</td>\n",
       "      <td>https://www.amazon.in/Amazon-Basics-Electric-K...</td>\n",
       "      <td>NaN</td>\n",
       "      <td>599.0</td>\n",
       "      <td>4.0</td>\n",
       "      <td>379.0</td>\n",
       "    </tr>\n",
       "    <tr>\n",
       "      <th>...</th>\n",
       "      <td>...</td>\n",
       "      <td>...</td>\n",
       "      <td>...</td>\n",
       "      <td>...</td>\n",
       "      <td>...</td>\n",
       "      <td>...</td>\n",
       "    </tr>\n",
       "    <tr>\n",
       "      <th>313</th>\n",
       "      <td>313</td>\n",
       "      <td>https://www.amazon.in/Supvox%C2%AE-Electric-Po...</td>\n",
       "      <td>Supvox® 0.5 Litre Electric Kettle 300W Portabl...</td>\n",
       "      <td>2698.0</td>\n",
       "      <td>NaN</td>\n",
       "      <td>NaN</td>\n",
       "    </tr>\n",
       "    <tr>\n",
       "      <th>314</th>\n",
       "      <td>314</td>\n",
       "      <td>https://www.amazon.in/VYATIRANG-Stainless-Auto...</td>\n",
       "      <td>VYATIRANG Electric Kettle with Handle &amp; Lid Do...</td>\n",
       "      <td>999.0</td>\n",
       "      <td>NaN</td>\n",
       "      <td>NaN</td>\n",
       "    </tr>\n",
       "    <tr>\n",
       "      <th>315</th>\n",
       "      <td>315</td>\n",
       "      <td>https://www.amazon.in/AxegooElectric-Kettle-St...</td>\n",
       "      <td>AxegooElectric Kettle Hot Water Kettle, 1.8L S...</td>\n",
       "      <td>369.0</td>\n",
       "      <td>3.9</td>\n",
       "      <td>4.0</td>\n",
       "    </tr>\n",
       "    <tr>\n",
       "      <th>316</th>\n",
       "      <td>316</td>\n",
       "      <td>https://www.amazon.in/AxegooElectric-Kettle-St...</td>\n",
       "      <td>AxegooElectric Kettle Hot Water Kettle, 1.8L S...</td>\n",
       "      <td>369.0</td>\n",
       "      <td>NaN</td>\n",
       "      <td>NaN</td>\n",
       "    </tr>\n",
       "    <tr>\n",
       "      <th>317</th>\n",
       "      <td>317</td>\n",
       "      <td>https://www.amazon.in/Prestige-Electric-Kettle...</td>\n",
       "      <td>Prestige Electric Kettle PKOSS - 1500watts, St...</td>\n",
       "      <td>1498.0</td>\n",
       "      <td>3.9</td>\n",
       "      <td>4.0</td>\n",
       "    </tr>\n",
       "  </tbody>\n",
       "</table>\n",
       "<p>318 rows × 6 columns</p>\n",
       "</div>"
      ],
      "text/plain": [
       "     Unnamed: 0                                        Product URL  \\\n",
       "0             0  https://www.amazon.in/Pigeon-Electric-Stainles...   \n",
       "1             1  https://www.amazon.in/Prestige-Electric-Kettle...   \n",
       "2             2  https://www.amazon.in/Pigeon-Multipurpose-1217...   \n",
       "3             3  https://www.amazon.in/Amazon-Basics-Electric-K...   \n",
       "4             4  https://www.amazon.in/Amazon-Basics-Electric-K...   \n",
       "..          ...                                                ...   \n",
       "313         313  https://www.amazon.in/Supvox%C2%AE-Electric-Po...   \n",
       "314         314  https://www.amazon.in/VYATIRANG-Stainless-Auto...   \n",
       "315         315  https://www.amazon.in/AxegooElectric-Kettle-St...   \n",
       "316         316  https://www.amazon.in/AxegooElectric-Kettle-St...   \n",
       "317         317  https://www.amazon.in/Prestige-Electric-Kettle...   \n",
       "\n",
       "                                          Product Name  Product Price  Rating  \\\n",
       "0    Pigeon Amaze Plus Electric Kettle 1.5 L, 1500 ...          599.0     3.9   \n",
       "1    Prestige 1.5 Litres Electric Kettle (PKOSS 1.5...          699.0     3.9   \n",
       "2    Pigeon Amaze Multipurpose Kettle 600 Watt, 1.2...          899.0     3.8   \n",
       "3                                                  NaN          599.0     4.0   \n",
       "4                                                  NaN          599.0     4.0   \n",
       "..                                                 ...            ...     ...   \n",
       "313  Supvox® 0.5 Litre Electric Kettle 300W Portabl...         2698.0     NaN   \n",
       "314  VYATIRANG Electric Kettle with Handle & Lid Do...          999.0     NaN   \n",
       "315  AxegooElectric Kettle Hot Water Kettle, 1.8L S...          369.0     3.9   \n",
       "316  AxegooElectric Kettle Hot Water Kettle, 1.8L S...          369.0     NaN   \n",
       "317  Prestige Electric Kettle PKOSS - 1500watts, St...         1498.0     3.9   \n",
       "\n",
       "     Number of Reviews  \n",
       "0             149546.0  \n",
       "1              68502.0  \n",
       "2              17616.0  \n",
       "3                739.0  \n",
       "4                379.0  \n",
       "..                 ...  \n",
       "313                NaN  \n",
       "314                NaN  \n",
       "315                4.0  \n",
       "316                NaN  \n",
       "317                4.0  \n",
       "\n",
       "[318 rows x 6 columns]"
      ]
     },
     "execution_count": 93,
     "metadata": {},
     "output_type": "execute_result"
    }
   ],
   "source": [
    "df"
   ]
  },
  {
   "cell_type": "code",
   "execution_count": 94,
   "id": "2fdcdb45",
   "metadata": {},
   "outputs": [],
   "source": [
    "df_filtered = df_filtered.sort_values(by='Number of Reviews', ascending=True)"
   ]
  },
  {
   "cell_type": "code",
   "execution_count": 109,
   "id": "73e60b85",
   "metadata": {},
   "outputs": [],
   "source": [
    "df_filtered = df[df['Product Price'] <= 2000]\n",
    "df_filtered = df_filtered[df_filtered['Number of Reviews'] <= 50000]"
   ]
  },
  {
   "cell_type": "code",
   "execution_count": 110,
   "id": "d834a113",
   "metadata": {},
   "outputs": [
    {
     "data": {
      "text/html": [
       "<div>\n",
       "<style scoped>\n",
       "    .dataframe tbody tr th:only-of-type {\n",
       "        vertical-align: middle;\n",
       "    }\n",
       "\n",
       "    .dataframe tbody tr th {\n",
       "        vertical-align: top;\n",
       "    }\n",
       "\n",
       "    .dataframe thead th {\n",
       "        text-align: right;\n",
       "    }\n",
       "</style>\n",
       "<table border=\"1\" class=\"dataframe\">\n",
       "  <thead>\n",
       "    <tr style=\"text-align: right;\">\n",
       "      <th></th>\n",
       "      <th>Unnamed: 0</th>\n",
       "      <th>Product URL</th>\n",
       "      <th>Product Name</th>\n",
       "      <th>Product Price</th>\n",
       "      <th>Rating</th>\n",
       "      <th>Number of Reviews</th>\n",
       "    </tr>\n",
       "  </thead>\n",
       "  <tbody>\n",
       "    <tr>\n",
       "      <th>2</th>\n",
       "      <td>2</td>\n",
       "      <td>https://www.amazon.in/Pigeon-Multipurpose-1217...</td>\n",
       "      <td>Pigeon Amaze Multipurpose Kettle 600 Watt, 1.2...</td>\n",
       "      <td>899.0</td>\n",
       "      <td>3.8</td>\n",
       "      <td>17616.0</td>\n",
       "    </tr>\n",
       "    <tr>\n",
       "      <th>3</th>\n",
       "      <td>3</td>\n",
       "      <td>https://www.amazon.in/Amazon-Basics-Electric-K...</td>\n",
       "      <td>NaN</td>\n",
       "      <td>599.0</td>\n",
       "      <td>4.0</td>\n",
       "      <td>739.0</td>\n",
       "    </tr>\n",
       "    <tr>\n",
       "      <th>4</th>\n",
       "      <td>4</td>\n",
       "      <td>https://www.amazon.in/Amazon-Basics-Electric-K...</td>\n",
       "      <td>NaN</td>\n",
       "      <td>599.0</td>\n",
       "      <td>4.0</td>\n",
       "      <td>379.0</td>\n",
       "    </tr>\n",
       "    <tr>\n",
       "      <th>5</th>\n",
       "      <td>5</td>\n",
       "      <td>https://www.amazon.in/AmazonBasics-Double-Wall...</td>\n",
       "      <td>NaN</td>\n",
       "      <td>1573.0</td>\n",
       "      <td>4.4</td>\n",
       "      <td>1441.0</td>\n",
       "    </tr>\n",
       "    <tr>\n",
       "      <th>6</th>\n",
       "      <td>6</td>\n",
       "      <td>https://www.amazon.in/AmazonBasics-Stainless-S...</td>\n",
       "      <td>NaN</td>\n",
       "      <td>996.0</td>\n",
       "      <td>4.2</td>\n",
       "      <td>2012.0</td>\n",
       "    </tr>\n",
       "    <tr>\n",
       "      <th>...</th>\n",
       "      <td>...</td>\n",
       "      <td>...</td>\n",
       "      <td>...</td>\n",
       "      <td>...</td>\n",
       "      <td>...</td>\n",
       "      <td>...</td>\n",
       "    </tr>\n",
       "    <tr>\n",
       "      <th>294</th>\n",
       "      <td>294</td>\n",
       "      <td>https://www.amazon.in/Guance-Electric-Stainles...</td>\n",
       "      <td>Guance 12V CAR Electric Stainless Steel Smart ...</td>\n",
       "      <td>800.0</td>\n",
       "      <td>2.1</td>\n",
       "      <td>3.0</td>\n",
       "    </tr>\n",
       "    <tr>\n",
       "      <th>295</th>\n",
       "      <td>295</td>\n",
       "      <td>https://www.amazon.in/Global-Litre-Stainless-S...</td>\n",
       "      <td>Kitchen Expert 5 Litre Stainless Steel Milk ca...</td>\n",
       "      <td>999.0</td>\n",
       "      <td>3.8</td>\n",
       "      <td>29.0</td>\n",
       "    </tr>\n",
       "    <tr>\n",
       "      <th>304</th>\n",
       "      <td>304</td>\n",
       "      <td>https://www.amazon.in/Prestige-Electric-Kettle...</td>\n",
       "      <td>Prestige Electric Kettle PKOSS - 1500watts, St...</td>\n",
       "      <td>1398.0</td>\n",
       "      <td>4.6</td>\n",
       "      <td>4.0</td>\n",
       "    </tr>\n",
       "    <tr>\n",
       "      <th>315</th>\n",
       "      <td>315</td>\n",
       "      <td>https://www.amazon.in/AxegooElectric-Kettle-St...</td>\n",
       "      <td>AxegooElectric Kettle Hot Water Kettle, 1.8L S...</td>\n",
       "      <td>369.0</td>\n",
       "      <td>3.9</td>\n",
       "      <td>4.0</td>\n",
       "    </tr>\n",
       "    <tr>\n",
       "      <th>317</th>\n",
       "      <td>317</td>\n",
       "      <td>https://www.amazon.in/Prestige-Electric-Kettle...</td>\n",
       "      <td>Prestige Electric Kettle PKOSS - 1500watts, St...</td>\n",
       "      <td>1498.0</td>\n",
       "      <td>3.9</td>\n",
       "      <td>4.0</td>\n",
       "    </tr>\n",
       "  </tbody>\n",
       "</table>\n",
       "<p>170 rows × 6 columns</p>\n",
       "</div>"
      ],
      "text/plain": [
       "     Unnamed: 0                                        Product URL  \\\n",
       "2             2  https://www.amazon.in/Pigeon-Multipurpose-1217...   \n",
       "3             3  https://www.amazon.in/Amazon-Basics-Electric-K...   \n",
       "4             4  https://www.amazon.in/Amazon-Basics-Electric-K...   \n",
       "5             5  https://www.amazon.in/AmazonBasics-Double-Wall...   \n",
       "6             6  https://www.amazon.in/AmazonBasics-Stainless-S...   \n",
       "..          ...                                                ...   \n",
       "294         294  https://www.amazon.in/Guance-Electric-Stainles...   \n",
       "295         295  https://www.amazon.in/Global-Litre-Stainless-S...   \n",
       "304         304  https://www.amazon.in/Prestige-Electric-Kettle...   \n",
       "315         315  https://www.amazon.in/AxegooElectric-Kettle-St...   \n",
       "317         317  https://www.amazon.in/Prestige-Electric-Kettle...   \n",
       "\n",
       "                                          Product Name  Product Price  Rating  \\\n",
       "2    Pigeon Amaze Multipurpose Kettle 600 Watt, 1.2...          899.0     3.8   \n",
       "3                                                  NaN          599.0     4.0   \n",
       "4                                                  NaN          599.0     4.0   \n",
       "5                                                  NaN         1573.0     4.4   \n",
       "6                                                  NaN          996.0     4.2   \n",
       "..                                                 ...            ...     ...   \n",
       "294  Guance 12V CAR Electric Stainless Steel Smart ...          800.0     2.1   \n",
       "295  Kitchen Expert 5 Litre Stainless Steel Milk ca...          999.0     3.8   \n",
       "304  Prestige Electric Kettle PKOSS - 1500watts, St...         1398.0     4.6   \n",
       "315  AxegooElectric Kettle Hot Water Kettle, 1.8L S...          369.0     3.9   \n",
       "317  Prestige Electric Kettle PKOSS - 1500watts, St...         1498.0     3.9   \n",
       "\n",
       "     Number of Reviews  \n",
       "2              17616.0  \n",
       "3                739.0  \n",
       "4                379.0  \n",
       "5               1441.0  \n",
       "6               2012.0  \n",
       "..                 ...  \n",
       "294                3.0  \n",
       "295               29.0  \n",
       "304                4.0  \n",
       "315                4.0  \n",
       "317                4.0  \n",
       "\n",
       "[170 rows x 6 columns]"
      ]
     },
     "execution_count": 110,
     "metadata": {},
     "output_type": "execute_result"
    }
   ],
   "source": [
    "df_filtered"
   ]
  },
  {
   "cell_type": "code",
   "execution_count": 118,
   "id": "096d96a7",
   "metadata": {},
   "outputs": [
    {
     "data": {
      "application/vnd.plotly.v1+json": {
       "config": {
        "plotlyServerURL": "https://plot.ly"
       },
       "data": [
        {
         "customdata": [
          [
           "Pigeon Amaze Multipurpose Kettle 600 Watt, 1.2 L with Stainless Steel Body, Used for Boiling Water and Milk, Tea, Coffee, Oats, Noodles, Soup etc. - Silver"
          ],
          [
           null
          ],
          [
           null
          ],
          [
           null
          ],
          [
           null
          ],
          [
           null
          ],
          [
           "Havells Electric Kettle Aqua 1.2 LTR Black 1500W Steel Inside with Auto Shut"
          ],
          [
           "Butterfly Stainless Steel Ekn 1.5-Litre Electric Kettle (Silver With Black),1500 Watts,1.5 Liter"
          ],
          [
           "Pigeon 1.5 Litre Hot Kettle&Stainless Steel Water Bottle Combo,1500 Watt With Auto Shut-Off Feature-(Silver),1500 Watts,1.5 Liter"
          ],
          [
           "Pigeon Quartz Electric Kettle 1.7 Litre, 1500 W, Stainless Steel Body, Used for Boiling Water, Making Tea and Coffee, Instant Noodles, soup etc. - Silver"
          ],
          [
           "Prestige 1.5 Litre Kettle 1500-watts, Red"
          ],
          [
           "Havells Aqua Plus 1.2 Litre Double Wall Kettle/304 Stainless Steel Inner Body/Cool Touch Outer Body/Wider Mouth|2 Year Warranty (Blue,1500 Watt),1500 Watts,1.2 Liter"
          ],
          [
           "KENT 16052 Elegant Electric Glass Kettle 1.8L 2000 W | Blue LED Illumination | Borosilicate Glass Body | Boil Drying Protection | Used as Boiler | Milk | Tea | Water & Soup | 1 Year Warranty"
          ],
          [
           "AGARO Elegant Premium Electric Kettle,Extra Large,1.8L,Cool Touch Handle,Double Layered Kettle,Stainless Steel Inner Body,Auto Shut Off,1500 Watts,Portable,Black,1.8 Liter"
          ],
          [
           "Borosil Electric Glass Kettle,Borosilicate Glass,Extra Long Cord,Dry-Boil Protection,360° Rotating Base,1.8 L,Transparent,1500 Watts,1.8 Liter"
          ],
          [
           "Prestige PKGSS 1.7L 1500W Electric Kettle (Stainless Steel)"
          ],
          [
           "Milton Euroline Go Electro 1.5 Stainless Steel Electric Kettle, 1 Piece, (1.5 Litres), Silver | Power Indicator | 1500 Watts | Auto Cut-off | Detachable 360 Degree Connector | Boiler for Water"
          ],
          [
           "Prestige 1.8 Litres Electric Kettle (PKOSS 1.8)| 1500W| Silver - Black| Automatic Cut-off | Stainless Steel | Rotatable Base | Power Indicator | Single-Touch Lid Locking"
          ],
          [
           "Milton Euroline Go Electro 1.2 Stainless Steel Electric Kettle, (1 Piece), 1.2 Litres, Silver | Power Indicator | 1500 Watts | Auto Cut-off | Detachable 360 Degree Connector | Boiler for Water"
          ],
          [
           "Lifelong Llek15 Electric Kettle 1.5L With Stainless Steel Body,Easy&Fast Boiling Of Water For Instant Noodles,Soup,Tea Etc. (1 Year Warranty,Silver),1500 Watts,1.5 Liter"
          ],
          [
           "Philips HD 9363/02 1.2 L Kettle with 25% thicker body for longer life, triple safe auto cut off"
          ],
          [
           "AGARO Stainless Steel Esteem Multi Kettle 1.2 Litre,600W With 3 Heating Modes&Rapid Boil Technology (Silver),600 Watts,1.2 Liter"
          ],
          [
           "Bajaj KTX 1.8 Litre DLX Electric Kettle |1500W Kettle with Stainless Steel Body | Cordless Operation | Auto Shut-off Mechanism | 2-Yr Warranty | Black"
          ],
          [
           "KENT 16026 Electric Steel Kettle 1.8 L 1500 W | Stainless Steel body | Superfast Boiling | Auto Shut-Off | Boil Dry Protection | 360° Rotating Base | Water Level Indicator | 1 Year Warranty"
          ],
          [
           "Butterfly Ekn 1.8L 1500 Watt Electric Water Kettle (Stainless Steel),1500 Watts,1.8 Liter"
          ],
          [
           "Cello Quick Boil 700 Electric Stainless Steel Kettle With 2 Travel Cups,500Ml,1000W,Black/Silver,1000 Watts,500 Milliliter"
          ],
          [
           "Cello Stainless Steel Quick Boil 900 Electric Kettle, 1 Ltr, Black & Silver"
          ],
          [
           "KENT Amaze Cool Touch Electric Kettle 1.8 L 1500 W - Plastic Outer & Stainless Steel body Inside | Auto shut off Over heating protection | 1 Year Warranty"
          ],
          [
           "Pigeon Aura 1.2 Ltr Double Walled Kettle/Stainless Steel Interior/Cool Touch Outer Body/With Keep Warm Feature/1 Year Warranty (Black,1500 Watts),1.2 Liter"
          ],
          [
           "Wonderchef Crescent Electric Kettle 1.5 Litres, 2 years Warranty"
          ],
          [
           "Prestige Electric Kettle Pkss (1350 Watts) 1.0Ltr-Stainless Steel,1 Liter"
          ],
          [
           "Prestige 1.2 Litres Electric Kettle (PKCS 1.2)| Silver | Auto Cut-Off | Power Indicator | Concealed Element | Single-Touch Lid Locking | 360 Degree Swivel Base"
          ],
          [
           "Wonderchef Cool Touch Electric Kettle 1500W with Stainless Steel Interior | 1.8L Capacity | 1 Years Warranty | Black"
          ],
          [
           "Pigeon By Stovekraft 1.5 Litre Stainless Steel Hot Electric Kettle (Silver,12466),1500 Watts,1.5 Liter"
          ],
          [
           "XECH Electric Kettle For Travel Hot Water Mini Kettle In-Built Cable Portable Bottle Design 300W Heating Element to Boil Water to Prepare Tea Coffee without Milk Small Kettles (Hydroboil, 350ml)"
          ],
          [
           "Vandelay Electric Kettle (1.7L) | Double Wall, Cool Touch with Dry-Boil Protection | Auto Cut off (White)"
          ],
          [
           "Havells Caro 1.5 Litre Double Wall,304 Stainless Steel Inner Body,Cool Touch Outer Body,Wider Mouth,2 Year Warranty (White,1250 Watt),1250 Watts,1.5 Liter"
          ],
          [
           "AGARO Stainless Steel Optima Electric Kettle-0.5L,Silver,1500 Watts,0.5 Liter"
          ],
          [
           "Crompton Insta Delight 1.8L SS Electric Kettle with Auto shut-off | Dry Boil Protection | 1500 W | Boil water - Make tea, coffee, soup, instant noodles, etc. (Silvery Grey)"
          ],
          [
           "Havells Altro 1.5 Litre Double Wall Kettle/304 Stainless Steel Inner Body/Cool Touch Outer Body/Wider Mouth|2 Year Warranty (Black,1250 Watt),1250 Watts,1.5 Liter"
          ],
          [
           "InstaCuppa Foldable Silicone Electric Kettle, 600 ML,600 Watts,Travel Kettle, Fast Boiling, Food Grade Silicone, Collapsible Kettle, Portable, Boil Dry Protection For Travel, Home, & Office"
          ],
          [
           "Inalsa Kwik 1500 Watt Electric Kettle in 1.5-Litre (Black/Silver)"
          ],
          [
           "Havells Plastic Capture 1.2 Litre Multi Cook Kettle With Steamer 650 Watt (Green),650 Watts,1.2 Liter"
          ],
          [
           "amazon basics Double-Walled Stainless Steel Electric Kettle - 1.7 Litre (2200 Watt)"
          ],
          [
           "Crompton Deluxehot Glass Electric Kettle 1.7Ltr With Removable Infuser|Superfast Boiling|Auto Shut Off|Dry Boil Protection|Blue Led Illumination,2000 Watts,1.7 Liter"
          ],
          [
           "Borosil Cooltouch Electric Kettle,Stainless Steel Inner Body,Boil Water For Tea,Coffee,Soup,1 L,Silver,1200 Watts,1 Liter"
          ],
          [
           "USHA Plastic Ek 3315 Electric Kettle (White), 1200 Watts, 1 Liter"
          ],
          [
           "amazon basics 1500W Electric Kettle (Stainless Steel body, 1.8L)"
          ],
          [
           "Prestige PKTS 0.5 Electric Kettle 500ml, Silver & Black"
          ],
          [
           "KENT Stainless Steel Vogue 1500W 1.5L Electric Kettle (Silver),1500 Watts,1.5 Liter"
          ],
          [
           "Inalsa Plastic Electric Travel Kettle Cute 0.5 L|Fast Boiling 1000 Watts|Light Indicator|Boild Dry Protection|Auto Shut Off|2 Travel Cups|(Silver/Black),0.5 Liter"
          ],
          [
           "Brayden Aquo 10 Electric Glass Kettle | Led Indicator | Tea, Soup & Multipurpose | Auto Shut Off | Boil Dry Protection | Transparent Borosilicate Glass Body (1500W,1.8 Litre,Grey)"
          ],
          [
           "Borosil Omni 1.5 L Electric Kettle With Egg Tray,Stainless Steel Inner Body,Boil Water For Tea,Coffee,Soup,Silver,600 Watts,1.5 Liter"
          ],
          [
           "Borosil Eva Cool Touch 0.6 liter Stainless Steel Kettle Electric Kettle (Black), 750 Watts"
          ],
          [
           "amazon basics Stainless Steel Electric Kettle-1.7 Litre (2200 Watt),2200 Watts,1.7 Liter"
          ],
          [
           "Crompton Plastic Activhot Electric Kettle|1.2 Litres| Cool Touch|Black,1000 Watts,1.2 Liter"
          ],
          [
           "REZEK Travel Folding Electric Kettle Stainless Steel Heating Plate Fast Boiling Food Grade Silicone Folding Design Collapsible I Portable I Foldable I Boil Dry Protection Home & Office Use (Multicolor)"
          ],
          [
           "Sipologie Premium Gooseneck Kettle 1000ml - Sleek Stainless Steel Construction - Perfect for Pour Over Coffee & Tea - Long Spout for Controlled Pouring - A Must-Have for Coffee and Tea Enthusiasts"
          ],
          [
           "HASTHIP® Electric Kettle 0.4 Litre Portable Electric Water Bottle for Hot Water Kettle 300W Electric Tea Kettle Mug Multipurpose Food Grade Fast Boil with Keep Warm & Auto Shut Off for Travel"
          ],
          [
           "amazon basics 1500W Electric Kettle (Stainless Steel body, 1.5L)"
          ],
          [
           "Borosil Eva 1 L Electric Kettle, Stainless Steel Inner Body, Boil Noodles, Eggs, Maggi's, Water For Tea, Coffee, Soup, Silver, 1000 Watts, 1 liter"
          ],
          [
           "Lifelong LLNEK650 650 ml Insulated Hot & Cold Stainless-Steel Kettle| 100% Leak Proof | BPA Free | Easy to Carry | Ideal for Tea | Coffee | Juice | Water"
          ],
          [
           "Rollz Black Color 1200 ML Stainless Steel Coffee & Tea Kettle with Built-in Thermometer for Exact Temperature, Gooseneck Spout for Smooth Pouring, Easy to Grip & Heat Resistant Handle"
          ],
          [
           "AGARO Galaxy Electric Kettle with Keep Warm Function, BPA Free PP Plastic & Glass body, Double Wall Design, Bicolor LED, 1.5L, Hot Water Kettle with Auto Shut-Off and Boil Dry Protection, Black"
          ],
          [
           "Inalsa Electric Kettle Prism Inox - 1350 W with LED Illumination & Boro-Silicate Body, 1.8 L Capacity along with Cordless Base, 2 Year Warranty (Black)"
          ],
          [
           "AGARO Regal Electric Kettle With Keep Warm Function, Stainless Steel & Glass Body, Double Wall Design, Hot Water Kettle With Auto Shut-Off And Boil Dry Protection, Black, 1355 Watts, 1.5 liter"
          ],
          [
           "Singer Aroma 1.8-Liter Electric Kettle (Silver/Black)"
          ],
          [
           "Wipro Vesta 1.5L BK205 Cool Touch Kettle|Anti - Rust Shield|SS304|Super Fast Heating|Triple Layer Protection - Overheating, Dry Boil & Excess Steam|Single Touch Open Lid"
          ],
          [
           "Pringle Stainless Steel Electric Multipurpose Heating Mug/Kettle 300Watt Capacity 900ml With 6 Months Onsite Warranty"
          ],
          [
           "Milton Combo Set Go Electro Stainless Steel Kettle, 2 Litres, Silver and Aqua 750 Stainless Steel Water Bottle, 750 ml, Blue | Office | Home | Kitchen | Travel Water Bottle"
          ],
          [
           "wipro Vesta 1.8 Litre Glass Led Electric Kettle With Keep Warm Function|Auto Cut Off|Triple Protection-Dry Boil,Steam&Over Heat |Stainless Steel Inner Body |,1500 Watts,1.8 Liter"
          ],
          [
           "AGARO Stainless Steel Royal Double Layered Kettle,1.5 Litres,Double Layered Cool Touch,Dry Boiling Protection,Black,1500 Watts,1.5 Liter"
          ],
          [
           "SOLARA Premium Electric Kettle Large | 1500 Watt | 1.2L Double Wall 100% Stainless Steel BPA-Free Cool Touch Tea Kettle with Overheating Protection, Cordless with Auto Shut-Off | Mobile app (White)"
          ],
          [
           "Home Puff 700ml Fast Boiling Electric Kettle, Stainless Steel Body, Auto-Cut with OverHeat & Boil Dry Protection, Safety Lid Lock, Easy to Clean, Portable, 360° Swivel Base, 1000W, with Warranty,Black"
          ],
          [
           "Crimson Edge Electric Kettle Red 1.7 L"
          ],
          [
           "Luxe Kettle Ivory 1.7 L"
          ],
          [
           "Cello Quick Boil Popular/Lifestyle Electric Kettle 1.5 Litre 1200 Watts|Stainless Steel Body|Boiler For Water,Silver,1.5 Liter"
          ],
          [
           "Crompton Insta Delight 1.5L SS Electric Kettle with Auto shut-off | Dry Boil Protection | 1500 W | Boil water - Make tea, coffee, soup, instant noodles, etc. (Silvery Grey)"
          ],
          [
           "Prestige PKLSS 1.7 Electric Kettle 1.7L, Silver & Black"
          ],
          [
           "Prestige PKDSS 0.7 Electric Kettle 700ml"
          ],
          [
           "Vidiem Smart 0.8 litre Cool touch electric Kettle with Auto cut off | Double Layer outer body | Triple Protection - Dry Boil, Steam & Over Heat |304 -Stainless Steel Inner Body | Lockable Lid |(Black, 600Watt)"
          ],
          [
           "Cello Quick Boil Pride Electric Kettle, 1.8 Ltr, Flipstyle Bottle with Jacket, 750 ml Electric Kettle (2.55 L, Silver)"
          ],
          [
           "Pringle Electric Kettle Inspire 1.5 Ltr 1500 Watts with Boil Dry Protection & Auto-Shut Off, Concealed Heating Element| 360 Deg Cordless Base, Wide Mouth Opening , Premium finish ,With power Indicator and steam sensor"
          ],
          [
           "INALSA Designer Electric Kettle 0.6L Aqua -Double Wall|304 Stainless Steel Inner Body|Cool Touch Outer Body|Wider Mouth|Boil Dry Protection|Auto-Shut Off|SS Filter Sieve, 360 Deg Cordless Base,(800W)"
          ],
          [
           "V-Guard Vkg17 Glass Electric Kettle For Hot Water, Heat-Resistant Borosilicate Glass/Color Illumination Cool Touch Body / 2000 Watt Heating Element For Fast Boiling, 2000 Watts, 1.7 liter"
          ],
          [
           "AGARO Imperial Glass Electric Kettle,1.8L Capacity,1500 Watts,Borosilicate Glass Body,Dry Boiling Protection,360° Rotating Base,Silver,1.8 Liter"
          ],
          [
           "Wipro Vesta 1.8L BK206 Cool Touch Kettle|Anti - Rust Shield|SS304|Super Fast Heating|Triple Layer Protection - Overheating, Dry Boil & Excess Steam|Single Touch Open Lid"
          ],
          [
           "Prestige PKSS 1.5 Stainless Steel Electric Kettle 1.5 L, (Silver & Black)"
          ],
          [
           "REZEK Travel Folding Electric Kettle | Fast Boiling | Food Grade Silicone | Beautiful Design Collapsible | Portable | Foldable | Boil Dry Protection | Blue & Peach (Blue)"
          ],
          [
           "AGARO Elite Goose Neck Kettle, 600 ml, Stainless Body with Teflon Coating, Long Narrow Stainless Steel Pour Over Coffee Kettle, Coffee Maker, Black"
          ],
          [
           "Cyrox Stainless Steel 12V Car Charging Electric Kettle Mug|Electric Kettle Travel Coffee Mug Cup Drink Tea With Milk Mug Of Water Heater Heated Thermos 450 Ml,12 Watts,450 Milliliter"
          ],
          [
           "Wonderchef Electric Kettle Crimson Edge, Stainless Steel, with Auto-shut Off, 2-level Safety, Cool-touch,1.5 Litres, 2 Years Warranty, 1500W, Red"
          ],
          [
           "AXEGO Electric Kettle Hot Water Kettle, 1.8L Stainless Steel Electric Tea Kettle & Coffee Kettle,"
          ],
          [
           "Crompton Activ Hot 1.5 Litres Cool Touch Electric Kettle (Black)"
          ],
          [
           "INALSA Electric Kettle Upright 1350 Watts|1.80 L|unique Cylindrical SS Body| Cordless|Easy Maintenance|Inbuilt Multiple Safety System|(Black/Silver)"
          ],
          [
           "V-Guard Vks17 Electric Kettle For Hot Water, 1.7 Liter 1500W, Stainless Steel Hot Water Kettle/Auto Cut-Off/Power Indicator/Boil Dry Protection, 1500 Watts"
          ],
          [
           "ignito Travel Folding Electric Kettle, Fast Boiling, Beautiful Design Collapsible Portable Electric Kettle 600ml Boil Dry Protection 100-220V Food Grade Silicone Foldable Kettle Travel Home & Office"
          ],
          [
           "Pigeon Kessel Multi-017 1.2-Litre Kettle (Silver),600 Watts,1.2 Liter"
          ],
          [
           "KENT 16088 Vogue Electric Kettle 1.8 Litre 1500 W | Stainless Steel body | Auto shut off over heating protection | 1 Year Warranty"
          ],
          [
           "Lifelong Llekbt01 Electric Kettle 1.5 Litre 1500W For Boiling Water,Soup With Leak Proof 750 Ml Stainless Steel Bottle Combo|Combo For Kitchen,Easy To Use|1 Year Warranty,1500 Watts,1.5 Liter"
          ],
          [
           "Cello Quick Boil Glassy H2O Electric Kettle, 1.7 Ltr, 1200 Watts, Black, Medium, (70FKT021BK)"
          ],
          [
           "amazon basics 2200W Kettle|Sleek Design With 1.7L Borosilicate Glass Body,Led Illumination&Heat Resistant Handle,2200 Watts,1.7 Liter"
          ],
          [
           "Borosil Cooltouch 1.2 L Electric Kettle,Stainless Steel Inner Body,Boil Water For Tea,Coffee,Soup,Noodles,White,650 Watts,1.2 Liter"
          ],
          [
           "Singer Cutie DX Electric Kettle 1.5 Liter Stainless Steel, 1500watts - Black, Silver"
          ],
          [
           "Prestige PKPW 0.6-Litre 900-Watts Electric Kettle"
          ],
          [
           "Milton Euroline Combo Set Go Electro Stainless Steel Electric Kettle, 2 Litre, Silver, 1 Piece and Alive Stainless Steel Water Bottle, 750 ml, 1 Piece, Black"
          ],
          [
           "Hot Water Scarlett Electric Kettle 2 Liter Multipurpose Large Size Tea Coffee Maker Water Boiler with Handle"
          ],
          [
           "Milton Euroline Combo Set Go Electro Stainless Steel Electric Kettle, 2 Litres, Silver and Flip Lid Thermosteel Hot or Cold Stainless Steel Water Bottle with Jacket, 1 Litre, Silver"
          ],
          [
           "Orpat Oek-8137 1350-Watt Cordless Kettle,1350 Watts,1.2 Liter,silver,Pack of 1"
          ],
          [
           "Bajaj Stainless Steel Majesty Ktx 2 0.5-Litre Travel Kettle (Black),1100 Watts,0.5 Liter,Pack of 1"
          ],
          [
           "INALSA Electric Kettle for Hot Water With 1 Litre Capacity - Select |Auto Shut Off & Boil Dry Protection| Travel Friendly Size| Wide mouth for Easy Cleaning|Water heater jug|2 Year Warranty Silver"
          ],
          [
           "Prestige =41573 1500 W Stainless Steel Electric Kettle (Standard, Silver)"
          ],
          [
           "Milton Euroline Riga Electric 1.5 Stainless Steel Electric Kettle, 1 Piece, 1.5 Litres, Aqua Green | Power Indicator | 1500 Watts | Double Walled | Auto Cut-off | Detachable 360 Degree Connector | Cool Touch Body | Cordless Pot"
          ],
          [
           "Milton Euroline Combo Set Go Electro Stainless Steel Electric Kettle, 1.2 Litres, Silver and Duo DLX Thermosteel Hot or Cold Stainless Steel Water Bottle, 500 ml, Silver"
          ],
          [
           "Kraftmania Ceramic Kettle and Cup Set 1 Kettle 1 Plate and 4 Cup Heat Resistant Kettle Capacity 575 ML and Cup Capacity 120 ML"
          ],
          [
           "KHOOBREZ Waterproof, Dustproof and Washable Cover for Glass Electric Kettle EK-MBC(Black)"
          ],
          [
           "UKSTYLZ Hot Water Pot Portable Boiler Tea Coffee Warmer Heater Cordless Electric Kettle (2, Silver) Electric Kettle (2 L, Silver, Black)"
          ],
          [
           "Preethi Armour EK707 1-Liter Electric Kettle (Steel/Black)"
          ],
          [
           "(Renewed) Morphy Richards Impresso 1-Litre Stainless Steel Electric Kettle, Black, 10 x 13 (Impresso-cr)"
          ],
          [
           "wipro Vesta Electric Kettle Stainless Steel 1.7 L|Auto Shut-Off|Boil Dry Protection|360° Rotating BaseWater Level Indicator,Black,Standard|Power Plug,2000 Watts,1.7 Liter"
          ],
          [
           "Bajaj Stainless Steel 1.2 Liters Electric Kettle (Black),1300 Watts"
          ],
          [
           "Milton Euroline Combo Set Go Electro Stainless Steel Electric Kettle, 1 Piece, 2 Litre (Silver) and Alive Stainless Steel Water Bottle, 1 Piece, (750 ml), Black"
          ],
          [
           "Oshotto 12V Car Heating MUG Travel Friendly Electric Kettle (500ml)"
          ],
          [
           "Kuber Industriestm Stainless Steel Tea Kettle,Serving Tea Kettle,Hot Water Kettle Capacity Upto 12 Cups (Tea0103)"
          ],
          [
           "Pigeon Hot Stainless Steel Electric Kettle, 1.7 Litre, with 1500 Watt, boiler for Water, milk, tea, coffee, instant noodles, soup etc, Silver, Large"
          ],
          [
           "KunhaR Ceramic Teapot, Serving Kettle, Ceramic Kettle - 400 ML"
          ],
          [
           "Cello Quick Boil Primo 1.5 Litre Electric Kettle Watts, Red"
          ],
          [
           "(Refurbished) Morphy Richards Voyager 300 0.5-Litre Stainless Steel Travel Kettle"
          ],
          [
           "Purpledip Beautifully Painted Ceramic Kettle: 850 ml Tea Coffee Pot, Steel Strainer Included (10731)"
          ],
          [
           "(Renewed) Bajaj Majesty KTX 2 0.5-Litre Travel Kettle (Black)"
          ],
          [
           "Cello Stainless Steel Quick Boil Primo 1.8 Litre Electric Kettle 1500 Watts,Red,1.8 Liter"
          ],
          [
           "Pigeon by stovekraft Amaze Plus 1.5 Litre Electric Kettle, Black & Pigeon by Stovekraft Kessel 1.2-Litre Multi-Purpose Kettle (Silver) 600W, Black"
          ],
          [
           "Borosil Cooltouch Electric Kettle,Stainless Steel Inner Body,Boil Water For Tea,Coffee,Soup,1.8 L,Silver,1800 Watts,1.8 Liter"
          ],
          [
           "Wonderchef Luxe Automatic Stainless Steel Cordless Electric Kettle 1.2 Litre, 1800W, Ivory | Elegant design | Safety Lock"
          ],
          [
           "iEI Electric Kettle 13A -250V AC Brass Pin Alongwith Normal Close Tempearture Control Male and Female W Socket Thermostat Black Switch Button Steam Spear Parts. (KETTLE THERMOSTAT 4 Pcs)"
          ],
          [
           "Longway Kestro 1500W Electric Kettle with Stainless Steel Body, 2 litre - Auto Power Cut used for boiling Water, making tea and coffee, instant noodles, soup etc. (Black & Silver)"
          ],
          [
           "Havells Plastic Travel Lite 1000 Watts Electric Kettle (Grey), 0.5 Liter"
          ],
          [
           "SHIVAJI ENTERPRISE Electric Kettle Temperature Control Stainless Steel Tea Kettle Auto Shut-Off, Boil-Dry Protection, Keeping- Warm"
          ],
          [
           "(Renewed) Bajaj Majesty Ktx 9 1-Litre Multifunction Stainless Steel Kettle (Silver)_Majesty KTX 9-cr- extra large"
          ],
          [
           "(Renewed) Bajaj Majesty Ktx 15 1.7 Litre Kettle (Black And Silver)"
          ],
          [
           "Pringle Cordless Electric Kettle | Super fast Boiling | 1.8 Litres | Water Tea Coffee Instant Noodles Soup | 1500Watt Neo Dlx…"
          ],
          [
           "Skyline VTL-5004 1.7L Stainless Steel Electric Kettle."
          ],
          [
           "A Krazy Mug Designer Aluminium Tea Kettle, 1000ml(Multicolour)"
          ],
          [
           "Purpledip Ceramic Kettle 'Flower Mesh': 850 ml, Steel Strainer Included (10498)"
          ],
          [
           "Purpledip Ceramic Kettle in Rustic Studio Pottery 'Elegance': Artisan Handmade Glazed Tea Coffee Pot, Off-White, 450 ml (12316)"
          ],
          [
           "Pigeon by Stovekraft Amaze Plus Kettle with Stainless Steel Body, 1.5 litres boiler for Water, instant noodles, soup etc."
          ],
          [
           "Prestige Stainless Steel Pkpc Electric Pink Kettle, 1500 Watts, 1.50 liter"
          ],
          [
           "Prestige PKOSS 1.2-Litre Electric Kettle (Silver)"
          ],
          [
           "Pigeon by stovekraft Amaze Plus 1.5L Electric Kettle, Large Handy and Compact Chopper with 3 Blades for effortlessly Chopping Vegetables and Fruits for Your Kitchen (Black)"
          ],
          [
           "Prestige STH Steel Kettle, 1500 ml (Black, 19 cm x 18.5 cm x 21 cm , black )"
          ],
          [
           "Jolfay Silver Kettle"
          ],
          [
           "Prestige 1.5 Litre Kettle 1500-watts, Red + Prestige Multi Cooker 1 Litre - PMC 1.0+"
          ],
          [
           "Crompton Active hot Electric Kettle (1.5L, Black)"
          ],
          [
           "Prestige PKPWC 1.0 900-Watt Electric Kettle"
          ],
          [
           "Pigeon Steel Electronic Kettle (1.5L, Silver)"
          ],
          [
           "Milton Euroline Combo Set Go Electro Stainless Steel Electric Kettle, Silver, 1.2 Litre, 1 Piece and Alive Stainless Steel Water Bottle, Black, 750 ml, 1 Piece"
          ],
          [
           "KSI Handmade Terracotta Clay Milk Sugar Pot Tea Kettle for Serving (Tea Kettle)"
          ],
          [
           "Pigeon by stovekraft Amaze Plus 1.5L Electric Kettle, Stovekraft Brewster Coffee Maker. A Small Size Coffee Maker of Home Machine (Black)"
          ],
          [
           "Dolphy 1.2 Liter Electric Kettle - 304 Stainless Steel + ABS Cordless Tea Kettle 1800W with Auto Shut-off, Dry-Boiling Protection"
          ],
          [
           "Prestige Electric Kettle PKOSS - 1500watts, Steel (1.5Ltr), Black & PKGSS 1.7L 1500W Electric Kettle (Stainless Steel) Combo"
          ],
          [
           "SANAVYA All Model Kettle Part | Electric Kettle Part | All Kettle Spare Part (Socket Type 1)"
          ],
          [
           "FOMQUAZLI Stainless Steel Electric Scarlett Kettle Multipurpose Tea Coffee Maker Heater Water Boiler Tea Pot with Heat Resistance Handle 2 Liter"
          ],
          [
           "Guance Stainless Steel Electric Smart Mug 12V CAR Electric Kettle Heated Mug CAR Coffee Cup with Charger Heating Cup Kettle Vacuum Insulated Water Heater Mug for Maruti Suzuki Celerio BS6 (Pack of 1)"
          ],
          [
           "Prestige PKPW 1.7-Litre 1200-Watt Electric Kettle"
          ],
          [
           "Pigeon by Stovekraft Amaze Plus 1.5 Litre Electric Kettle, Black & Quartz 1.7 Litre, Wide Mouth, Electric Kettle Combo"
          ],
          [
           "Guance 12V CAR Electric Stainless Steel Smart Kettle Coffee Cup with Charger, Vacuum Insulated Water Heater Mug for Hyundai Verna Fludic 2017"
          ],
          [
           "Kitchen Expert 5 Litre Stainless Steel Milk can - A Grade Steel - Cap Locked - USE for - Oil BURNI/GHEE WADI/Milk Kettle"
          ],
          [
           "Prestige Electric Kettle PKOSS - 1500watts, Steel (1.5Ltr), Black & 1.5 Litre Kettle 1500-watts, Red Combo"
          ],
          [
           "AxegooElectric Kettle Hot Water Kettle, 1.8L Stainless Steel Electric Tea Kettle & Coffee Kettle, BPA-Free Water Warmer with Fast Boil"
          ],
          [
           "Prestige Electric Kettle PKOSS - 1500watts, Steel (1.5Ltr), Black & PKOSS 1.8 Litre Kettle, Red Combo"
          ]
         ],
         "hovertemplate": "Price=%{x}<br>Customer Rating=%{y}<br>Number of Reviews=%{marker.size}<br>Product Name=%{customdata[0]}<extra></extra>",
         "legendgroup": "",
         "marker": {
          "color": "#636efa",
          "size": [
           17616,
           739,
           379,
           1441,
           2012,
           197,
           25654,
           38869,
           3916,
           18660,
           35130,
           9274,
           15927,
           1371,
           273,
           17922,
           1373,
           15607,
           3618,
           2059,
           2372,
           5294,
           1664,
           3387,
           9533,
           2439,
           4098,
           2333,
           86,
           264,
           3164,
           2988,
           37,
           5427,
           474,
           1517,
           160,
           362,
           1,
           814,
           30,
           9732,
           1118,
           1441,
           15,
           115,
           651,
           379,
           178,
           38,
           1893,
           901,
           1718,
           32,
           2012,
           18,
           3,
           12,
           73,
           739,
           308,
           7,
           45,
           75,
           558,
           57,
           2530,
           812,
           4,
           17,
           218,
           176,
           1035,
           120,
           853,
           321,
           1303,
           1,
           30,
           25,
           4,
           5,
           74,
           72,
           486,
           500,
           109,
           7,
           14,
           22,
           12,
           78,
           145,
           145,
           785,
           1201,
           3,
           682,
           511,
           2045,
           4,
           75,
           4,
           270,
           414,
           31,
           1,
           176,
           5508,
           984,
           977,
           29,
           7,
           49,
           131,
           18,
           112,
           112,
           8,
           79,
           212,
           335,
           52,
           16,
           46,
           7,
           6,
           8,
           9,
           59,
           7,
           71,
           47,
           51,
           1,
           56,
           239,
           14,
           14,
           16,
           54,
           49,
           21,
           7,
           4,
           1858,
           25,
           2666,
           74,
           791,
           16,
           16,
           63,
           121,
           120,
           1,
           282,
           44,
           1,
           4,
           345,
           2,
           3,
           156,
           10,
           3,
           29,
           4,
           4,
           4
          ],
          "sizemode": "area",
          "sizeref": 97.1725,
          "symbol": "circle"
         },
         "mode": "markers",
         "name": "",
         "orientation": "v",
         "showlegend": false,
         "type": "scatter",
         "x": [
          899,
          599,
          599,
          1573,
          996,
          1499,
          1520,
          697,
          699,
          675,
          699,
          1520,
          1349,
          979,
          1609,
          799,
          799,
          825,
          747,
          627,
          1949,
          1299,
          729,
          999,
          877,
          1099,
          1199,
          1249,
          949,
          599,
          1165,
          780,
          1299,
          690,
          1999,
          1099,
          1499,
          689,
          698,
          1585,
          1199,
          699,
          1772,
          1573,
          1890,
          1899,
          1499,
          599,
          1265,
          799,
          1099,
          1249,
          1825,
          1890,
          996,
          1198,
          599,
          1220,
          1769,
          599,
          1432,
          449,
          999,
          1454,
          1244,
          1799,
          949,
          1599,
          599,
          1340,
          1718,
          1299,
          1249,
          899,
          1799,
          1849,
          948,
          897,
          920,
          1030,
          1449,
          1499,
          799,
          1255,
          1649,
          1399,
          1849,
          1175,
          599,
          1371,
          499,
          1699,
          379,
          1398,
          887,
          748,
          649,
          1315,
          999,
          699,
          1459,
          1303,
          1999,
          819,
          770,
          1563,
          489,
          1987,
          942,
          1449,
          1135,
          995,
          1706,
          1674,
          1299,
          299,
          600,
          1950,
          1749,
          1849,
          1045,
          1578,
          1499,
          445,
          1020,
          539,
          849,
          1148,
          1199,
          1349,
          899,
          1498,
          1909,
          959,
          409,
          629,
          1740,
          550,
          1849,
          1349,
          699,
          1125,
          1494,
          1199,
          819,
          799,
          1800,
          999,
          836,
          920,
          1650,
          1998,
          1749,
          1200,
          699,
          1255,
          699,
          1698,
          1899,
          1498,
          230,
          549,
          800,
          1040,
          1274,
          800,
          999,
          1398,
          369,
          1498
         ],
         "xaxis": "x",
         "y": [
          3.8,
          4,
          4,
          4.4,
          4.2,
          4.2,
          4.5,
          4.2,
          3.6,
          3.9,
          3.9,
          4.5,
          4,
          4.3,
          4.2,
          3.8,
          3.8,
          3.8,
          3.9,
          3.7,
          4.4,
          4.2,
          3.9,
          3.9,
          4.1,
          4.3,
          4.2,
          4,
          2.9,
          3.6,
          3.9,
          3.8,
          3.6,
          4.1,
          4.3,
          4,
          4.2,
          4.3,
          5,
          4.1,
          4.5,
          4,
          4.1,
          4.4,
          3.7,
          4.4,
          4.2,
          4,
          4.1,
          3.9,
          4.1,
          4.1,
          4.1,
          4.1,
          4.2,
          3.8,
          4.7,
          4.1,
          4,
          4,
          4.3,
          3,
          4.3,
          4.6,
          4.2,
          4.4,
          4.1,
          3.9,
          2.2,
          2.7,
          4.1,
          4.2,
          4.3,
          3.8,
          4.2,
          4.2,
          4.2,
          4,
          3.5,
          3.2,
          3.6,
          3.4,
          4,
          4.1,
          4.4,
          4,
          4,
          4.4,
          3.9,
          3.6,
          2.6,
          4.1,
          3.7,
          3.7,
          4,
          4,
          5,
          3.9,
          3.7,
          3.7,
          3.2,
          4.3,
          4.2,
          3.8,
          4,
          4,
          4,
          3.8,
          4.3,
          3.8,
          4,
          3.5,
          3,
          3.8,
          4.2,
          4.2,
          3.9,
          3.9,
          3.7,
          3.7,
          4,
          4,
          2.9,
          3.3,
          3.9,
          3.7,
          3.7,
          4.1,
          4.7,
          3.5,
          3.1,
          4.1,
          3.6,
          3.8,
          5,
          3.6,
          4,
          3.8,
          3.8,
          3.1,
          3.4,
          3.4,
          4.3,
          4.1,
          3.4,
          3.9,
          3.4,
          4.1,
          4.3,
          3.9,
          4.2,
          4.2,
          4.3,
          4.1,
          3.9,
          3,
          4,
          3.3,
          4,
          2.3,
          3.6,
          4.5,
          3.6,
          3.9,
          3.6,
          2.1,
          3.8,
          4.6,
          3.9,
          3.9
         ],
         "yaxis": "y"
        }
       ],
       "layout": {
        "legend": {
         "itemsizing": "constant",
         "tracegroupgap": 0
        },
        "margin": {
         "t": 60
        },
        "template": {
         "data": {
          "bar": [
           {
            "error_x": {
             "color": "#2a3f5f"
            },
            "error_y": {
             "color": "#2a3f5f"
            },
            "marker": {
             "line": {
              "color": "#E5ECF6",
              "width": 0.5
             },
             "pattern": {
              "fillmode": "overlay",
              "size": 10,
              "solidity": 0.2
             }
            },
            "type": "bar"
           }
          ],
          "barpolar": [
           {
            "marker": {
             "line": {
              "color": "#E5ECF6",
              "width": 0.5
             },
             "pattern": {
              "fillmode": "overlay",
              "size": 10,
              "solidity": 0.2
             }
            },
            "type": "barpolar"
           }
          ],
          "carpet": [
           {
            "aaxis": {
             "endlinecolor": "#2a3f5f",
             "gridcolor": "white",
             "linecolor": "white",
             "minorgridcolor": "white",
             "startlinecolor": "#2a3f5f"
            },
            "baxis": {
             "endlinecolor": "#2a3f5f",
             "gridcolor": "white",
             "linecolor": "white",
             "minorgridcolor": "white",
             "startlinecolor": "#2a3f5f"
            },
            "type": "carpet"
           }
          ],
          "choropleth": [
           {
            "colorbar": {
             "outlinewidth": 0,
             "ticks": ""
            },
            "type": "choropleth"
           }
          ],
          "contour": [
           {
            "colorbar": {
             "outlinewidth": 0,
             "ticks": ""
            },
            "colorscale": [
             [
              0,
              "#0d0887"
             ],
             [
              0.1111111111111111,
              "#46039f"
             ],
             [
              0.2222222222222222,
              "#7201a8"
             ],
             [
              0.3333333333333333,
              "#9c179e"
             ],
             [
              0.4444444444444444,
              "#bd3786"
             ],
             [
              0.5555555555555556,
              "#d8576b"
             ],
             [
              0.6666666666666666,
              "#ed7953"
             ],
             [
              0.7777777777777778,
              "#fb9f3a"
             ],
             [
              0.8888888888888888,
              "#fdca26"
             ],
             [
              1,
              "#f0f921"
             ]
            ],
            "type": "contour"
           }
          ],
          "contourcarpet": [
           {
            "colorbar": {
             "outlinewidth": 0,
             "ticks": ""
            },
            "type": "contourcarpet"
           }
          ],
          "heatmap": [
           {
            "colorbar": {
             "outlinewidth": 0,
             "ticks": ""
            },
            "colorscale": [
             [
              0,
              "#0d0887"
             ],
             [
              0.1111111111111111,
              "#46039f"
             ],
             [
              0.2222222222222222,
              "#7201a8"
             ],
             [
              0.3333333333333333,
              "#9c179e"
             ],
             [
              0.4444444444444444,
              "#bd3786"
             ],
             [
              0.5555555555555556,
              "#d8576b"
             ],
             [
              0.6666666666666666,
              "#ed7953"
             ],
             [
              0.7777777777777778,
              "#fb9f3a"
             ],
             [
              0.8888888888888888,
              "#fdca26"
             ],
             [
              1,
              "#f0f921"
             ]
            ],
            "type": "heatmap"
           }
          ],
          "heatmapgl": [
           {
            "colorbar": {
             "outlinewidth": 0,
             "ticks": ""
            },
            "colorscale": [
             [
              0,
              "#0d0887"
             ],
             [
              0.1111111111111111,
              "#46039f"
             ],
             [
              0.2222222222222222,
              "#7201a8"
             ],
             [
              0.3333333333333333,
              "#9c179e"
             ],
             [
              0.4444444444444444,
              "#bd3786"
             ],
             [
              0.5555555555555556,
              "#d8576b"
             ],
             [
              0.6666666666666666,
              "#ed7953"
             ],
             [
              0.7777777777777778,
              "#fb9f3a"
             ],
             [
              0.8888888888888888,
              "#fdca26"
             ],
             [
              1,
              "#f0f921"
             ]
            ],
            "type": "heatmapgl"
           }
          ],
          "histogram": [
           {
            "marker": {
             "pattern": {
              "fillmode": "overlay",
              "size": 10,
              "solidity": 0.2
             }
            },
            "type": "histogram"
           }
          ],
          "histogram2d": [
           {
            "colorbar": {
             "outlinewidth": 0,
             "ticks": ""
            },
            "colorscale": [
             [
              0,
              "#0d0887"
             ],
             [
              0.1111111111111111,
              "#46039f"
             ],
             [
              0.2222222222222222,
              "#7201a8"
             ],
             [
              0.3333333333333333,
              "#9c179e"
             ],
             [
              0.4444444444444444,
              "#bd3786"
             ],
             [
              0.5555555555555556,
              "#d8576b"
             ],
             [
              0.6666666666666666,
              "#ed7953"
             ],
             [
              0.7777777777777778,
              "#fb9f3a"
             ],
             [
              0.8888888888888888,
              "#fdca26"
             ],
             [
              1,
              "#f0f921"
             ]
            ],
            "type": "histogram2d"
           }
          ],
          "histogram2dcontour": [
           {
            "colorbar": {
             "outlinewidth": 0,
             "ticks": ""
            },
            "colorscale": [
             [
              0,
              "#0d0887"
             ],
             [
              0.1111111111111111,
              "#46039f"
             ],
             [
              0.2222222222222222,
              "#7201a8"
             ],
             [
              0.3333333333333333,
              "#9c179e"
             ],
             [
              0.4444444444444444,
              "#bd3786"
             ],
             [
              0.5555555555555556,
              "#d8576b"
             ],
             [
              0.6666666666666666,
              "#ed7953"
             ],
             [
              0.7777777777777778,
              "#fb9f3a"
             ],
             [
              0.8888888888888888,
              "#fdca26"
             ],
             [
              1,
              "#f0f921"
             ]
            ],
            "type": "histogram2dcontour"
           }
          ],
          "mesh3d": [
           {
            "colorbar": {
             "outlinewidth": 0,
             "ticks": ""
            },
            "type": "mesh3d"
           }
          ],
          "parcoords": [
           {
            "line": {
             "colorbar": {
              "outlinewidth": 0,
              "ticks": ""
             }
            },
            "type": "parcoords"
           }
          ],
          "pie": [
           {
            "automargin": true,
            "type": "pie"
           }
          ],
          "scatter": [
           {
            "fillpattern": {
             "fillmode": "overlay",
             "size": 10,
             "solidity": 0.2
            },
            "type": "scatter"
           }
          ],
          "scatter3d": [
           {
            "line": {
             "colorbar": {
              "outlinewidth": 0,
              "ticks": ""
             }
            },
            "marker": {
             "colorbar": {
              "outlinewidth": 0,
              "ticks": ""
             }
            },
            "type": "scatter3d"
           }
          ],
          "scattercarpet": [
           {
            "marker": {
             "colorbar": {
              "outlinewidth": 0,
              "ticks": ""
             }
            },
            "type": "scattercarpet"
           }
          ],
          "scattergeo": [
           {
            "marker": {
             "colorbar": {
              "outlinewidth": 0,
              "ticks": ""
             }
            },
            "type": "scattergeo"
           }
          ],
          "scattergl": [
           {
            "marker": {
             "colorbar": {
              "outlinewidth": 0,
              "ticks": ""
             }
            },
            "type": "scattergl"
           }
          ],
          "scattermapbox": [
           {
            "marker": {
             "colorbar": {
              "outlinewidth": 0,
              "ticks": ""
             }
            },
            "type": "scattermapbox"
           }
          ],
          "scatterpolar": [
           {
            "marker": {
             "colorbar": {
              "outlinewidth": 0,
              "ticks": ""
             }
            },
            "type": "scatterpolar"
           }
          ],
          "scatterpolargl": [
           {
            "marker": {
             "colorbar": {
              "outlinewidth": 0,
              "ticks": ""
             }
            },
            "type": "scatterpolargl"
           }
          ],
          "scatterternary": [
           {
            "marker": {
             "colorbar": {
              "outlinewidth": 0,
              "ticks": ""
             }
            },
            "type": "scatterternary"
           }
          ],
          "surface": [
           {
            "colorbar": {
             "outlinewidth": 0,
             "ticks": ""
            },
            "colorscale": [
             [
              0,
              "#0d0887"
             ],
             [
              0.1111111111111111,
              "#46039f"
             ],
             [
              0.2222222222222222,
              "#7201a8"
             ],
             [
              0.3333333333333333,
              "#9c179e"
             ],
             [
              0.4444444444444444,
              "#bd3786"
             ],
             [
              0.5555555555555556,
              "#d8576b"
             ],
             [
              0.6666666666666666,
              "#ed7953"
             ],
             [
              0.7777777777777778,
              "#fb9f3a"
             ],
             [
              0.8888888888888888,
              "#fdca26"
             ],
             [
              1,
              "#f0f921"
             ]
            ],
            "type": "surface"
           }
          ],
          "table": [
           {
            "cells": {
             "fill": {
              "color": "#EBF0F8"
             },
             "line": {
              "color": "white"
             }
            },
            "header": {
             "fill": {
              "color": "#C8D4E3"
             },
             "line": {
              "color": "white"
             }
            },
            "type": "table"
           }
          ]
         },
         "layout": {
          "annotationdefaults": {
           "arrowcolor": "#2a3f5f",
           "arrowhead": 0,
           "arrowwidth": 1
          },
          "autotypenumbers": "strict",
          "coloraxis": {
           "colorbar": {
            "outlinewidth": 0,
            "ticks": ""
           }
          },
          "colorscale": {
           "diverging": [
            [
             0,
             "#8e0152"
            ],
            [
             0.1,
             "#c51b7d"
            ],
            [
             0.2,
             "#de77ae"
            ],
            [
             0.3,
             "#f1b6da"
            ],
            [
             0.4,
             "#fde0ef"
            ],
            [
             0.5,
             "#f7f7f7"
            ],
            [
             0.6,
             "#e6f5d0"
            ],
            [
             0.7,
             "#b8e186"
            ],
            [
             0.8,
             "#7fbc41"
            ],
            [
             0.9,
             "#4d9221"
            ],
            [
             1,
             "#276419"
            ]
           ],
           "sequential": [
            [
             0,
             "#0d0887"
            ],
            [
             0.1111111111111111,
             "#46039f"
            ],
            [
             0.2222222222222222,
             "#7201a8"
            ],
            [
             0.3333333333333333,
             "#9c179e"
            ],
            [
             0.4444444444444444,
             "#bd3786"
            ],
            [
             0.5555555555555556,
             "#d8576b"
            ],
            [
             0.6666666666666666,
             "#ed7953"
            ],
            [
             0.7777777777777778,
             "#fb9f3a"
            ],
            [
             0.8888888888888888,
             "#fdca26"
            ],
            [
             1,
             "#f0f921"
            ]
           ],
           "sequentialminus": [
            [
             0,
             "#0d0887"
            ],
            [
             0.1111111111111111,
             "#46039f"
            ],
            [
             0.2222222222222222,
             "#7201a8"
            ],
            [
             0.3333333333333333,
             "#9c179e"
            ],
            [
             0.4444444444444444,
             "#bd3786"
            ],
            [
             0.5555555555555556,
             "#d8576b"
            ],
            [
             0.6666666666666666,
             "#ed7953"
            ],
            [
             0.7777777777777778,
             "#fb9f3a"
            ],
            [
             0.8888888888888888,
             "#fdca26"
            ],
            [
             1,
             "#f0f921"
            ]
           ]
          },
          "colorway": [
           "#636efa",
           "#EF553B",
           "#00cc96",
           "#ab63fa",
           "#FFA15A",
           "#19d3f3",
           "#FF6692",
           "#B6E880",
           "#FF97FF",
           "#FECB52"
          ],
          "font": {
           "color": "#2a3f5f"
          },
          "geo": {
           "bgcolor": "white",
           "lakecolor": "white",
           "landcolor": "#E5ECF6",
           "showlakes": true,
           "showland": true,
           "subunitcolor": "white"
          },
          "hoverlabel": {
           "align": "left"
          },
          "hovermode": "closest",
          "mapbox": {
           "style": "light"
          },
          "paper_bgcolor": "white",
          "plot_bgcolor": "#E5ECF6",
          "polar": {
           "angularaxis": {
            "gridcolor": "white",
            "linecolor": "white",
            "ticks": ""
           },
           "bgcolor": "#E5ECF6",
           "radialaxis": {
            "gridcolor": "white",
            "linecolor": "white",
            "ticks": ""
           }
          },
          "scene": {
           "xaxis": {
            "backgroundcolor": "#E5ECF6",
            "gridcolor": "white",
            "gridwidth": 2,
            "linecolor": "white",
            "showbackground": true,
            "ticks": "",
            "zerolinecolor": "white"
           },
           "yaxis": {
            "backgroundcolor": "#E5ECF6",
            "gridcolor": "white",
            "gridwidth": 2,
            "linecolor": "white",
            "showbackground": true,
            "ticks": "",
            "zerolinecolor": "white"
           },
           "zaxis": {
            "backgroundcolor": "#E5ECF6",
            "gridcolor": "white",
            "gridwidth": 2,
            "linecolor": "white",
            "showbackground": true,
            "ticks": "",
            "zerolinecolor": "white"
           }
          },
          "shapedefaults": {
           "line": {
            "color": "#2a3f5f"
           }
          },
          "ternary": {
           "aaxis": {
            "gridcolor": "white",
            "linecolor": "white",
            "ticks": ""
           },
           "baxis": {
            "gridcolor": "white",
            "linecolor": "white",
            "ticks": ""
           },
           "bgcolor": "#E5ECF6",
           "caxis": {
            "gridcolor": "white",
            "linecolor": "white",
            "ticks": ""
           }
          },
          "title": {
           "x": 0.05
          },
          "xaxis": {
           "automargin": true,
           "gridcolor": "white",
           "linecolor": "white",
           "ticks": "",
           "title": {
            "standoff": 15
           },
           "zerolinecolor": "white",
           "zerolinewidth": 2
          },
          "yaxis": {
           "automargin": true,
           "gridcolor": "white",
           "linecolor": "white",
           "ticks": "",
           "title": {
            "standoff": 15
           },
           "zerolinecolor": "white",
           "zerolinewidth": 2
          }
         }
        },
        "xaxis": {
         "anchor": "y",
         "domain": [
          0,
          1
         ],
         "title": {
          "text": "Price"
         }
        },
        "yaxis": {
         "anchor": "x",
         "domain": [
          0,
          1
         ],
         "title": {
          "text": "Customer Rating"
         }
        }
       }
      },
      "text/html": [
       "<div>                            <div id=\"0aea95c1-f962-4a35-a681-53ec3e194bfd\" class=\"plotly-graph-div\" style=\"height:525px; width:100%;\"></div>            <script type=\"text/javascript\">                require([\"plotly\"], function(Plotly) {                    window.PLOTLYENV=window.PLOTLYENV || {};                                    if (document.getElementById(\"0aea95c1-f962-4a35-a681-53ec3e194bfd\")) {                    Plotly.newPlot(                        \"0aea95c1-f962-4a35-a681-53ec3e194bfd\",                        [{\"customdata\":[[\"Pigeon Amaze Multipurpose Kettle 600 Watt, 1.2 L with Stainless Steel Body, Used for Boiling Water and Milk, Tea, Coffee, Oats, Noodles, Soup etc. - Silver\"],[null],[null],[null],[null],[null],[\"Havells Electric Kettle Aqua 1.2 LTR Black 1500W Steel Inside with Auto Shut\"],[\"Butterfly Stainless Steel Ekn 1.5-Litre Electric Kettle (Silver With Black),1500 Watts,1.5 Liter\"],[\"Pigeon 1.5 Litre Hot Kettle&Stainless Steel Water Bottle Combo,1500 Watt With Auto Shut-Off Feature-(Silver),1500 Watts,1.5 Liter\"],[\"Pigeon Quartz Electric Kettle 1.7 Litre, 1500 W, Stainless Steel Body, Used for Boiling Water, Making Tea and Coffee, Instant Noodles, soup etc. - Silver\"],[\"Prestige 1.5 Litre Kettle 1500-watts, Red\"],[\"Havells Aqua Plus 1.2 Litre Double Wall Kettle/304 Stainless Steel Inner Body/Cool Touch Outer Body/Wider Mouth|2 Year Warranty (Blue,1500 Watt),1500 Watts,1.2 Liter\"],[\"KENT 16052 Elegant Electric Glass Kettle 1.8L 2000 W | Blue LED Illumination | Borosilicate Glass Body | Boil Drying Protection | Used as Boiler | Milk | Tea | Water & Soup | 1 Year Warranty\"],[\"AGARO Elegant Premium Electric Kettle,Extra Large,1.8L,Cool Touch Handle,Double Layered Kettle,Stainless Steel Inner Body,Auto Shut Off,1500 Watts,Portable,Black,1.8 Liter\"],[\"Borosil Electric Glass Kettle,Borosilicate Glass,Extra Long Cord,Dry-Boil Protection,360\\u00b0 Rotating Base,1.8 L,Transparent,1500 Watts,1.8 Liter\"],[\"Prestige PKGSS 1.7L 1500W Electric Kettle (Stainless Steel)\"],[\"Milton Euroline Go Electro 1.5 Stainless Steel Electric Kettle, 1 Piece, (1.5 Litres), Silver | Power Indicator | 1500 Watts | Auto Cut-off | Detachable 360 Degree Connector | Boiler for Water\"],[\"Prestige 1.8 Litres Electric Kettle (PKOSS 1.8)| 1500W| Silver - Black| Automatic Cut-off | Stainless Steel | Rotatable Base | Power Indicator | Single-Touch Lid Locking\"],[\"Milton Euroline Go Electro 1.2 Stainless Steel Electric Kettle, (1 Piece), 1.2 Litres, Silver | Power Indicator | 1500 Watts | Auto Cut-off | Detachable 360 Degree Connector | Boiler for Water\"],[\"Lifelong Llek15 Electric Kettle 1.5L With Stainless Steel Body,Easy&Fast Boiling Of Water For Instant Noodles,Soup,Tea Etc. (1 Year Warranty,Silver),1500 Watts,1.5 Liter\"],[\"Philips HD 9363/02 1.2 L Kettle with 25% thicker body for longer life, triple safe auto cut off\"],[\"AGARO Stainless Steel Esteem Multi Kettle 1.2 Litre,600W With 3 Heating Modes&Rapid Boil Technology (Silver),600 Watts,1.2 Liter\"],[\"Bajaj KTX 1.8 Litre DLX Electric Kettle |1500W Kettle with Stainless Steel Body | Cordless Operation | Auto Shut-off Mechanism | 2-Yr Warranty | Black\"],[\"KENT 16026 Electric Steel Kettle 1.8 L 1500 W | Stainless Steel body | Superfast Boiling | Auto Shut-Off | Boil Dry Protection | 360\\u00b0 Rotating Base | Water Level Indicator | 1 Year Warranty\"],[\"Butterfly Ekn 1.8L 1500 Watt Electric Water Kettle (Stainless Steel),1500 Watts,1.8 Liter\"],[\"Cello Quick Boil 700 Electric Stainless Steel Kettle With 2 Travel Cups,500Ml,1000W,Black/Silver,1000 Watts,500 Milliliter\"],[\"Cello Stainless Steel Quick Boil 900 Electric Kettle, 1 Ltr, Black & Silver\"],[\"KENT Amaze Cool Touch Electric Kettle 1.8 L 1500 W - Plastic Outer & Stainless Steel body Inside | Auto shut off Over heating protection | 1 Year Warranty\"],[\"Pigeon Aura 1.2 Ltr Double Walled Kettle/Stainless Steel Interior/Cool Touch Outer Body/With Keep Warm Feature/1 Year Warranty (Black,1500 Watts),1.2 Liter\"],[\"Wonderchef Crescent Electric Kettle 1.5 Litres, 2 years Warranty\"],[\"Prestige Electric Kettle Pkss (1350 Watts) 1.0Ltr-Stainless Steel,1 Liter\"],[\"Prestige 1.2 Litres Electric Kettle (PKCS 1.2)| Silver | Auto Cut-Off | Power Indicator | Concealed Element | Single-Touch Lid Locking | 360 Degree Swivel Base\"],[\"Wonderchef Cool Touch Electric Kettle 1500W with Stainless Steel Interior | 1.8L Capacity | 1 Years Warranty | Black\"],[\"Pigeon By Stovekraft 1.5 Litre Stainless Steel Hot Electric Kettle (Silver,12466),1500 Watts,1.5 Liter\"],[\"XECH Electric Kettle For Travel Hot Water Mini Kettle In-Built Cable Portable Bottle Design 300W Heating Element to Boil Water to Prepare Tea Coffee without Milk Small Kettles (Hydroboil, 350ml)\"],[\"Vandelay Electric Kettle (1.7L) | Double Wall, Cool Touch with Dry-Boil Protection | Auto Cut off (White)\"],[\"Havells Caro 1.5 Litre Double Wall,304 Stainless Steel Inner Body,Cool Touch Outer Body,Wider Mouth,2 Year Warranty (White,1250 Watt),1250 Watts,1.5 Liter\"],[\"AGARO Stainless Steel Optima Electric Kettle-0.5L,Silver,1500 Watts,0.5 Liter\"],[\"Crompton Insta Delight 1.8L SS Electric Kettle with Auto shut-off | Dry Boil Protection | 1500 W | Boil water - Make tea, coffee, soup, instant noodles, etc. (Silvery Grey)\"],[\"Havells Altro 1.5 Litre Double Wall Kettle/304 Stainless Steel Inner Body/Cool Touch Outer Body/Wider Mouth|2 Year Warranty (Black,1250 Watt),1250 Watts,1.5 Liter\"],[\"InstaCuppa Foldable Silicone Electric Kettle, 600 ML,600 Watts,Travel Kettle, Fast Boiling, Food Grade Silicone, Collapsible Kettle, Portable, Boil Dry Protection For Travel, Home, & Office\"],[\"Inalsa Kwik 1500 Watt Electric Kettle in 1.5-Litre (Black/Silver)\"],[\"Havells Plastic Capture 1.2 Litre Multi Cook Kettle With Steamer 650 Watt (Green),650 Watts,1.2 Liter\"],[\"amazon basics Double-Walled Stainless Steel Electric Kettle - 1.7 Litre (2200 Watt)\"],[\"Crompton Deluxehot Glass Electric Kettle 1.7Ltr With Removable Infuser|Superfast Boiling|Auto Shut Off|Dry Boil Protection|Blue Led Illumination,2000 Watts,1.7 Liter\"],[\"Borosil Cooltouch Electric Kettle,Stainless Steel Inner Body,Boil Water For Tea,Coffee,Soup,1 L,Silver,1200 Watts,1 Liter\"],[\"USHA Plastic Ek 3315 Electric Kettle (White), 1200 Watts, 1 Liter\"],[\"amazon basics 1500W Electric Kettle (Stainless Steel body, 1.8L)\"],[\"Prestige PKTS 0.5 Electric Kettle 500ml, Silver & Black\"],[\"KENT Stainless Steel Vogue 1500W 1.5L Electric Kettle (Silver),1500 Watts,1.5 Liter\"],[\"Inalsa Plastic Electric Travel Kettle Cute 0.5 L|Fast Boiling 1000 Watts|Light Indicator|Boild Dry Protection|Auto Shut Off|2 Travel Cups|(Silver/Black),0.5 Liter\"],[\"Brayden Aquo 10 Electric Glass Kettle | Led Indicator | Tea, Soup & Multipurpose | Auto Shut Off | Boil Dry Protection | Transparent Borosilicate Glass Body (1500W,1.8 Litre,Grey)\"],[\"Borosil Omni 1.5 L Electric Kettle With Egg Tray,Stainless Steel Inner Body,Boil Water For Tea,Coffee,Soup,Silver,600 Watts,1.5 Liter\"],[\"Borosil Eva Cool Touch 0.6 liter Stainless Steel Kettle Electric Kettle (Black), 750 Watts\"],[\"amazon basics Stainless Steel Electric Kettle-1.7 Litre (2200 Watt),2200 Watts,1.7 Liter\"],[\"Crompton Plastic Activhot Electric Kettle|1.2 Litres|\\u00a0Cool Touch|Black,1000 Watts,1.2 Liter\"],[\"REZEK Travel Folding Electric Kettle Stainless Steel Heating Plate Fast Boiling Food Grade Silicone Folding Design Collapsible I Portable I Foldable I Boil Dry Protection Home & Office Use (Multicolor)\"],[\"Sipologie Premium Gooseneck Kettle 1000ml - Sleek Stainless Steel Construction - Perfect for Pour Over Coffee & Tea - Long Spout for Controlled Pouring - A Must-Have for Coffee and Tea Enthusiasts\"],[\"HASTHIP\\u00ae Electric Kettle 0.4 Litre Portable Electric Water Bottle for Hot Water Kettle 300W Electric Tea Kettle Mug Multipurpose Food Grade Fast Boil with Keep Warm & Auto Shut Off for Travel\"],[\"amazon basics 1500W Electric Kettle (Stainless Steel body, 1.5L)\"],[\"Borosil Eva 1 L Electric Kettle, Stainless Steel Inner Body, Boil Noodles, Eggs, Maggi's, Water For Tea, Coffee, Soup, Silver, 1000 Watts, 1 liter\"],[\"Lifelong LLNEK650 650 ml Insulated Hot & Cold Stainless-Steel Kettle| 100% Leak Proof | BPA Free | Easy to Carry | Ideal for Tea | Coffee | Juice | Water\"],[\"Rollz Black Color 1200 ML Stainless Steel Coffee & Tea Kettle with Built-in Thermometer for Exact Temperature, Gooseneck Spout for Smooth Pouring, Easy to Grip & Heat Resistant Handle\"],[\"AGARO Galaxy Electric Kettle with Keep Warm Function, BPA Free PP Plastic & Glass body, Double Wall Design, Bicolor LED, 1.5L, Hot Water Kettle with Auto Shut-Off and Boil Dry Protection, Black\"],[\"Inalsa Electric Kettle Prism Inox - 1350 W with LED Illumination & Boro-Silicate Body, 1.8 L Capacity along with Cordless Base, 2 Year Warranty (Black)\"],[\"AGARO Regal Electric Kettle With Keep Warm Function, Stainless Steel & Glass Body, Double Wall Design, Hot Water Kettle With Auto Shut-Off And Boil Dry Protection, Black, 1355 Watts, 1.5 liter\"],[\"Singer Aroma 1.8-Liter Electric Kettle (Silver/Black)\"],[\"Wipro Vesta 1.5L BK205 Cool Touch Kettle|Anti - Rust Shield|SS304|Super Fast Heating|Triple Layer Protection - Overheating, Dry Boil & Excess Steam|Single Touch Open Lid\"],[\"Pringle Stainless Steel Electric Multipurpose Heating Mug/Kettle 300Watt Capacity 900ml With 6 Months Onsite Warranty\"],[\"Milton Combo Set Go Electro Stainless Steel Kettle, 2 Litres, Silver and Aqua 750 Stainless Steel Water Bottle, 750 ml, Blue | Office | Home | Kitchen | Travel Water Bottle\"],[\"wipro Vesta 1.8 Litre Glass Led Electric Kettle With Keep Warm Function|Auto Cut Off|Triple Protection-Dry Boil,Steam&Over Heat |Stainless Steel Inner Body |,1500 Watts,1.8 Liter\"],[\"AGARO Stainless Steel Royal Double Layered Kettle,1.5 Litres,Double Layered Cool Touch,Dry Boiling Protection,Black,1500 Watts,1.5 Liter\"],[\"SOLARA Premium Electric Kettle Large | 1500 Watt | 1.2L Double Wall 100% Stainless Steel BPA-Free Cool Touch Tea Kettle with Overheating Protection, Cordless with Auto Shut-Off | Mobile app (White)\"],[\"Home Puff 700ml Fast Boiling Electric Kettle, Stainless Steel Body, Auto-Cut with OverHeat & Boil Dry Protection, Safety Lid Lock, Easy to Clean, Portable, 360\\u00b0 Swivel Base, 1000W, with Warranty,Black\"],[\"Crimson Edge Electric Kettle Red 1.7 L\"],[\"Luxe Kettle Ivory 1.7 L\"],[\"Cello Quick Boil Popular/Lifestyle Electric Kettle 1.5 Litre 1200 Watts|Stainless Steel Body|Boiler For Water,Silver,1.5 Liter\"],[\"Crompton Insta Delight 1.5L SS Electric Kettle with Auto shut-off | Dry Boil Protection | 1500 W | Boil water - Make tea, coffee, soup, instant noodles, etc. (Silvery Grey)\"],[\"Prestige PKLSS 1.7 Electric Kettle 1.7L, Silver & Black\"],[\"Prestige PKDSS 0.7 Electric Kettle 700ml\"],[\"Vidiem Smart 0.8 litre Cool touch electric Kettle with Auto cut off | Double Layer outer body | Triple Protection - Dry Boil, Steam & Over Heat |304 -Stainless Steel Inner Body | Lockable Lid |(Black, 600Watt)\"],[\"Cello Quick Boil Pride Electric Kettle, 1.8 Ltr, Flipstyle Bottle with Jacket, 750 ml Electric Kettle (2.55 L, Silver)\"],[\"Pringle Electric Kettle Inspire 1.5 Ltr 1500 Watts with Boil Dry Protection & Auto-Shut Off, Concealed Heating Element| 360 Deg Cordless Base, Wide Mouth Opening , Premium finish ,With power Indicator and steam sensor\"],[\"INALSA Designer Electric Kettle 0.6L Aqua -Double Wall|304 Stainless Steel Inner Body|Cool Touch Outer Body|Wider Mouth|Boil Dry Protection|Auto-Shut Off|SS Filter Sieve, 360 Deg Cordless Base,(800W)\"],[\"V-Guard Vkg17 Glass Electric Kettle For Hot Water, Heat-Resistant Borosilicate Glass/Color Illumination Cool Touch Body / 2000 Watt Heating Element For Fast Boiling, 2000 Watts, 1.7 liter\"],[\"AGARO Imperial Glass Electric Kettle,1.8L Capacity,1500 Watts,Borosilicate Glass Body,Dry Boiling Protection,360\\u00b0 Rotating Base,Silver,1.8 Liter\"],[\"Wipro Vesta 1.8L BK206 Cool Touch Kettle|Anti - Rust Shield|SS304|Super Fast Heating|Triple Layer Protection - Overheating, Dry Boil & Excess Steam|Single Touch Open Lid\"],[\"Prestige PKSS 1.5 Stainless Steel Electric Kettle 1.5 L, (Silver & Black)\"],[\"REZEK Travel Folding Electric Kettle | Fast Boiling | Food Grade Silicone | Beautiful Design Collapsible | Portable | Foldable | Boil Dry Protection | Blue & Peach (Blue)\"],[\"AGARO Elite Goose Neck Kettle, 600 ml, Stainless Body with Teflon Coating, Long Narrow Stainless Steel Pour Over Coffee Kettle, Coffee Maker, Black\"],[\"Cyrox Stainless Steel 12V Car Charging Electric Kettle Mug|Electric Kettle Travel Coffee Mug Cup Drink Tea With Milk Mug Of Water Heater Heated Thermos 450 Ml,12 Watts,450 Milliliter\"],[\"Wonderchef Electric Kettle Crimson Edge, Stainless Steel, with Auto-shut Off, 2-level Safety, Cool-touch,1.5 Litres, 2 Years Warranty, 1500W, Red\"],[\"AXEGO Electric Kettle Hot Water Kettle, 1.8L Stainless Steel Electric Tea Kettle & Coffee Kettle,\"],[\"Crompton Activ Hot 1.5 Litres Cool Touch Electric Kettle (Black)\"],[\"INALSA Electric Kettle Upright 1350 Watts|1.80 L|unique Cylindrical SS Body| Cordless|Easy Maintenance|Inbuilt Multiple Safety System|(Black/Silver)\"],[\"V-Guard Vks17 Electric Kettle For Hot Water, 1.7 Liter 1500W, Stainless Steel Hot Water Kettle/Auto Cut-Off/Power Indicator/Boil Dry Protection, 1500 Watts\"],[\"ignito Travel Folding Electric Kettle, Fast Boiling, Beautiful Design Collapsible Portable Electric Kettle 600ml Boil Dry Protection 100-220V Food Grade Silicone Foldable Kettle Travel Home & Office\"],[\"Pigeon Kessel Multi-017 1.2-Litre Kettle (Silver),600 Watts,1.2 Liter\"],[\"KENT 16088 Vogue Electric Kettle 1.8 Litre 1500 W | Stainless Steel body | Auto shut off over heating protection | 1 Year Warranty\"],[\"Lifelong Llekbt01 Electric Kettle 1.5 Litre 1500W For Boiling Water,Soup With Leak Proof 750 Ml Stainless Steel Bottle Combo|Combo For Kitchen,Easy To Use|1 Year Warranty,1500 Watts,1.5 Liter\"],[\"Cello Quick Boil Glassy H2O Electric Kettle, 1.7 Ltr, 1200 Watts, Black, Medium, (70FKT021BK)\"],[\"amazon basics 2200W Kettle|Sleek Design With 1.7L Borosilicate Glass Body,Led Illumination&Heat Resistant Handle,2200 Watts,1.7 Liter\"],[\"Borosil Cooltouch 1.2 L Electric Kettle,Stainless Steel Inner Body,Boil Water For Tea,Coffee,Soup,Noodles,White,650 Watts,1.2 Liter\"],[\"Singer Cutie DX Electric Kettle 1.5 Liter Stainless Steel, 1500watts - Black, Silver\"],[\"Prestige PKPW 0.6-Litre 900-Watts Electric Kettle\"],[\"Milton Euroline Combo Set Go Electro Stainless Steel Electric Kettle, 2 Litre, Silver, 1 Piece and Alive Stainless Steel Water Bottle, 750 ml, 1 Piece, Black\"],[\"Hot Water Scarlett Electric Kettle 2 Liter Multipurpose Large Size Tea Coffee Maker Water Boiler with Handle\"],[\"Milton Euroline Combo Set Go Electro Stainless Steel Electric Kettle, 2 Litres, Silver and Flip Lid Thermosteel Hot or Cold Stainless Steel Water Bottle with Jacket, 1 Litre, Silver\"],[\"Orpat Oek-8137 1350-Watt Cordless Kettle,1350 Watts,1.2 Liter,silver,Pack of 1\"],[\"Bajaj Stainless Steel Majesty Ktx 2 0.5-Litre Travel Kettle (Black),1100 Watts,0.5 Liter,Pack of 1\"],[\"INALSA Electric Kettle for Hot Water With 1 Litre Capacity - Select |Auto Shut Off & Boil Dry Protection| Travel Friendly Size| Wide mouth for Easy Cleaning|Water heater jug|2 Year Warranty Silver\"],[\"Prestige =41573 1500 W Stainless Steel Electric Kettle (Standard, Silver)\"],[\"Milton Euroline Riga Electric 1.5 Stainless Steel Electric Kettle, 1 Piece, 1.5 Litres, Aqua Green | Power Indicator | 1500 Watts | Double Walled | Auto Cut-off | Detachable 360 Degree Connector | Cool Touch Body | Cordless Pot\"],[\"Milton Euroline Combo Set Go Electro Stainless Steel Electric Kettle, 1.2 Litres, Silver and Duo DLX Thermosteel Hot or Cold Stainless Steel Water Bottle, 500 ml, Silver\"],[\"Kraftmania Ceramic Kettle and Cup Set 1 Kettle 1 Plate and 4 Cup Heat Resistant Kettle Capacity 575 ML and Cup Capacity 120 ML\"],[\"KHOOBREZ Waterproof, Dustproof and Washable Cover for Glass Electric Kettle EK-MBC(Black)\"],[\"UKSTYLZ Hot Water Pot Portable Boiler Tea Coffee Warmer Heater Cordless Electric Kettle (2, Silver) Electric Kettle (2 L, Silver, Black)\"],[\"Preethi Armour EK707 1-Liter Electric Kettle (Steel/Black)\"],[\"(Renewed) Morphy Richards Impresso 1-Litre Stainless Steel Electric Kettle, Black, 10 x 13 (Impresso-cr)\"],[\"wipro Vesta Electric Kettle Stainless Steel 1.7 L|Auto Shut-Off|Boil Dry Protection|360\\u00b0 Rotating BaseWater Level Indicator,Black,Standard|Power Plug,2000 Watts,1.7 Liter\"],[\"Bajaj Stainless Steel 1.2 Liters Electric Kettle (Black),1300 Watts\"],[\"Milton Euroline Combo Set Go Electro Stainless Steel Electric Kettle, 1 Piece, 2 Litre (Silver) and Alive Stainless Steel Water Bottle, 1 Piece, (750 ml), Black\"],[\"Oshotto 12V Car Heating MUG Travel Friendly Electric Kettle (500ml)\"],[\"Kuber Industriestm Stainless Steel Tea Kettle,Serving Tea Kettle,Hot Water Kettle Capacity Upto 12 Cups (Tea0103)\"],[\"Pigeon Hot Stainless Steel Electric Kettle, 1.7 Litre, with 1500 Watt, boiler for Water, milk, tea, coffee, instant noodles, soup etc, Silver, Large\"],[\"KunhaR Ceramic Teapot, Serving Kettle, Ceramic Kettle - 400 ML\"],[\"Cello Quick Boil Primo 1.5 Litre Electric Kettle Watts, Red\"],[\"(Refurbished) Morphy Richards Voyager 300 0.5-Litre Stainless Steel Travel Kettle\"],[\"Purpledip Beautifully Painted Ceramic Kettle: 850 ml Tea Coffee Pot, Steel Strainer Included (10731)\"],[\"(Renewed) Bajaj Majesty KTX 2 0.5-Litre Travel Kettle (Black)\"],[\"Cello Stainless Steel Quick Boil Primo 1.8 Litre Electric Kettle 1500 Watts,Red,1.8 Liter\"],[\"Pigeon by stovekraft Amaze Plus 1.5 Litre Electric Kettle, Black & Pigeon by Stovekraft Kessel 1.2-Litre Multi-Purpose Kettle (Silver) 600W, Black\"],[\"Borosil Cooltouch Electric Kettle,Stainless Steel Inner Body,Boil Water For Tea,Coffee,Soup,1.8 L,Silver,1800 Watts,1.8 Liter\"],[\"Wonderchef Luxe Automatic Stainless Steel Cordless Electric Kettle 1.2 Litre, 1800W, Ivory | Elegant design | Safety Lock\"],[\"iEI Electric Kettle 13A -250V AC Brass Pin Alongwith Normal Close Tempearture Control Male and Female W Socket Thermostat Black Switch Button Steam Spear Parts. (KETTLE THERMOSTAT 4 Pcs)\"],[\"Longway Kestro 1500W Electric Kettle with Stainless Steel Body, 2 litre - Auto Power Cut used for boiling Water, making tea and coffee, instant noodles, soup etc. (Black & Silver)\"],[\"Havells Plastic Travel Lite 1000 Watts Electric Kettle (Grey), 0.5 Liter\"],[\"SHIVAJI ENTERPRISE Electric Kettle Temperature Control Stainless Steel Tea Kettle Auto Shut-Off, Boil-Dry Protection, Keeping- Warm\"],[\"(Renewed) Bajaj Majesty Ktx 9 1-Litre Multifunction Stainless Steel Kettle (Silver)_Majesty KTX 9-cr- extra large\"],[\"(Renewed) Bajaj Majesty Ktx 15 1.7 Litre Kettle (Black And Silver)\"],[\"Pringle Cordless Electric Kettle | Super fast Boiling | 1.8 Litres | Water Tea Coffee Instant Noodles Soup | 1500Watt Neo Dlx\\u2026\"],[\"Skyline VTL-5004 1.7L Stainless Steel Electric Kettle.\"],[\"A Krazy Mug Designer Aluminium Tea Kettle, 1000ml(Multicolour)\"],[\"Purpledip Ceramic Kettle 'Flower Mesh': 850 ml, Steel Strainer Included (10498)\"],[\"Purpledip Ceramic Kettle in Rustic Studio Pottery 'Elegance': Artisan Handmade Glazed Tea Coffee Pot, Off-White, 450 ml (12316)\"],[\"Pigeon by Stovekraft Amaze Plus Kettle with Stainless Steel Body, 1.5 litres boiler for Water, instant noodles, soup etc.\"],[\"Prestige Stainless Steel Pkpc Electric Pink Kettle, 1500 Watts, 1.50 liter\"],[\"Prestige PKOSS 1.2-Litre Electric Kettle (Silver)\"],[\"Pigeon by stovekraft Amaze Plus 1.5L Electric Kettle, Large Handy and Compact Chopper with 3 Blades for effortlessly Chopping Vegetables and Fruits for Your Kitchen (Black)\"],[\"Prestige STH Steel Kettle, 1500 ml (Black, 19 cm x 18.5 cm x 21 cm , black )\"],[\"Jolfay Silver Kettle\"],[\"Prestige 1.5 Litre Kettle 1500-watts, Red + Prestige Multi Cooker 1 Litre - PMC 1.0+\"],[\"Crompton Active hot Electric Kettle (1.5L, Black)\"],[\"Prestige PKPWC 1.0 900-Watt Electric Kettle\"],[\"Pigeon Steel Electronic Kettle (1.5L, Silver)\"],[\"Milton Euroline Combo Set Go Electro Stainless Steel Electric Kettle, Silver, 1.2 Litre, 1 Piece and Alive Stainless Steel Water Bottle, Black, 750 ml, 1 Piece\"],[\"KSI Handmade Terracotta Clay Milk Sugar Pot Tea Kettle for Serving (Tea Kettle)\"],[\"Pigeon by stovekraft Amaze Plus 1.5L Electric Kettle, Stovekraft Brewster Coffee Maker. A Small Size Coffee Maker of Home Machine (Black)\"],[\"Dolphy 1.2 Liter Electric Kettle - 304 Stainless Steel + ABS Cordless Tea Kettle 1800W with Auto Shut-off, Dry-Boiling Protection\"],[\"Prestige Electric Kettle PKOSS - 1500watts, Steel (1.5Ltr), Black & PKGSS 1.7L 1500W Electric Kettle (Stainless Steel) Combo\"],[\"SANAVYA All Model Kettle Part | Electric Kettle Part | All Kettle Spare Part (Socket Type 1)\"],[\"FOMQUAZLI Stainless Steel Electric Scarlett Kettle Multipurpose Tea Coffee Maker Heater Water Boiler Tea Pot with Heat Resistance Handle 2 Liter\"],[\"Guance Stainless Steel Electric Smart Mug 12V CAR Electric Kettle Heated Mug CAR Coffee Cup with Charger Heating Cup Kettle Vacuum Insulated Water Heater Mug for Maruti Suzuki Celerio BS6 (Pack of 1)\"],[\"Prestige PKPW 1.7-Litre 1200-Watt Electric Kettle\"],[\"Pigeon by Stovekraft Amaze Plus 1.5 Litre Electric Kettle, Black & Quartz 1.7 Litre, Wide Mouth, Electric Kettle Combo\"],[\"Guance 12V CAR Electric Stainless Steel Smart Kettle Coffee Cup with Charger, Vacuum Insulated Water Heater Mug for Hyundai Verna Fludic 2017\"],[\"Kitchen Expert 5 Litre Stainless Steel Milk can - A Grade Steel - Cap Locked - USE for - Oil BURNI/GHEE WADI/Milk Kettle\"],[\"Prestige Electric Kettle PKOSS - 1500watts, Steel (1.5Ltr), Black & 1.5 Litre Kettle 1500-watts, Red Combo\"],[\"AxegooElectric Kettle Hot Water Kettle, 1.8L Stainless Steel Electric Tea Kettle & Coffee Kettle, BPA-Free Water Warmer with Fast Boil\"],[\"Prestige Electric Kettle PKOSS - 1500watts, Steel (1.5Ltr), Black & PKOSS 1.8 Litre Kettle, Red Combo\"]],\"hovertemplate\":\"Price=%{x}<br>Customer Rating=%{y}<br>Number of Reviews=%{marker.size}<br>Product Name=%{customdata[0]}<extra></extra>\",\"legendgroup\":\"\",\"marker\":{\"color\":\"#636efa\",\"size\":[17616.0,739.0,379.0,1441.0,2012.0,197.0,25654.0,38869.0,3916.0,18660.0,35130.0,9274.0,15927.0,1371.0,273.0,17922.0,1373.0,15607.0,3618.0,2059.0,2372.0,5294.0,1664.0,3387.0,9533.0,2439.0,4098.0,2333.0,86.0,264.0,3164.0,2988.0,37.0,5427.0,474.0,1517.0,160.0,362.0,1.0,814.0,30.0,9732.0,1118.0,1441.0,15.0,115.0,651.0,379.0,178.0,38.0,1893.0,901.0,1718.0,32.0,2012.0,18.0,3.0,12.0,73.0,739.0,308.0,7.0,45.0,75.0,558.0,57.0,2530.0,812.0,4.0,17.0,218.0,176.0,1035.0,120.0,853.0,321.0,1303.0,1.0,30.0,25.0,4.0,5.0,74.0,72.0,486.0,500.0,109.0,7.0,14.0,22.0,12.0,78.0,145.0,145.0,785.0,1201.0,3.0,682.0,511.0,2045.0,4.0,75.0,4.0,270.0,414.0,31.0,1.0,176.0,5508.0,984.0,977.0,29.0,7.0,49.0,131.0,18.0,112.0,112.0,8.0,79.0,212.0,335.0,52.0,16.0,46.0,7.0,6.0,8.0,9.0,59.0,7.0,71.0,47.0,51.0,1.0,56.0,239.0,14.0,14.0,16.0,54.0,49.0,21.0,7.0,4.0,1858.0,25.0,2666.0,74.0,791.0,16.0,16.0,63.0,121.0,120.0,1.0,282.0,44.0,1.0,4.0,345.0,2.0,3.0,156.0,10.0,3.0,29.0,4.0,4.0,4.0],\"sizemode\":\"area\",\"sizeref\":97.1725,\"symbol\":\"circle\"},\"mode\":\"markers\",\"name\":\"\",\"orientation\":\"v\",\"showlegend\":false,\"x\":[899.0,599.0,599.0,1573.0,996.0,1499.0,1520.0,697.0,699.0,675.0,699.0,1520.0,1349.0,979.0,1609.0,799.0,799.0,825.0,747.0,627.0,1949.0,1299.0,729.0,999.0,877.0,1099.0,1199.0,1249.0,949.0,599.0,1165.0,780.0,1299.0,690.0,1999.0,1099.0,1499.0,689.0,698.0,1585.0,1199.0,699.0,1772.0,1573.0,1890.0,1899.0,1499.0,599.0,1265.0,799.0,1099.0,1249.0,1825.0,1890.0,996.0,1198.0,599.0,1220.0,1769.0,599.0,1432.0,449.0,999.0,1454.0,1244.0,1799.0,949.0,1599.0,599.0,1340.0,1718.0,1299.0,1249.0,899.0,1799.0,1849.0,948.0,897.0,920.0,1030.0,1449.0,1499.0,799.0,1255.0,1649.0,1399.0,1849.0,1175.0,599.0,1371.0,499.0,1699.0,379.0,1398.0,887.0,748.0,649.0,1315.0,999.0,699.0,1459.0,1303.0,1999.0,819.0,770.0,1563.0,489.0,1987.0,942.0,1449.0,1135.0,995.0,1706.0,1674.0,1299.0,299.0,600.0,1950.0,1749.0,1849.0,1045.0,1578.0,1499.0,445.0,1020.0,539.0,849.0,1148.0,1199.0,1349.0,899.0,1498.0,1909.0,959.0,409.0,629.0,1740.0,550.0,1849.0,1349.0,699.0,1125.0,1494.0,1199.0,819.0,799.0,1800.0,999.0,836.0,920.0,1650.0,1998.0,1749.0,1200.0,699.0,1255.0,699.0,1698.0,1899.0,1498.0,230.0,549.0,800.0,1040.0,1274.0,800.0,999.0,1398.0,369.0,1498.0],\"xaxis\":\"x\",\"y\":[3.8,4.0,4.0,4.4,4.2,4.2,4.5,4.2,3.6,3.9,3.9,4.5,4.0,4.3,4.2,3.8,3.8,3.8,3.9,3.7,4.4,4.2,3.9,3.9,4.1,4.3,4.2,4.0,2.9,3.6,3.9,3.8,3.6,4.1,4.3,4.0,4.2,4.3,5.0,4.1,4.5,4.0,4.1,4.4,3.7,4.4,4.2,4.0,4.1,3.9,4.1,4.1,4.1,4.1,4.2,3.8,4.7,4.1,4.0,4.0,4.3,3.0,4.3,4.6,4.2,4.4,4.1,3.9,2.2,2.7,4.1,4.2,4.3,3.8,4.2,4.2,4.2,4.0,3.5,3.2,3.6,3.4,4.0,4.1,4.4,4.0,4.0,4.4,3.9,3.6,2.6,4.1,3.7,3.7,4.0,4.0,5.0,3.9,3.7,3.7,3.2,4.3,4.2,3.8,4.0,4.0,4.0,3.8,4.3,3.8,4.0,3.5,3.0,3.8,4.2,4.2,3.9,3.9,3.7,3.7,4.0,4.0,2.9,3.3,3.9,3.7,3.7,4.1,4.7,3.5,3.1,4.1,3.6,3.8,5.0,3.6,4.0,3.8,3.8,3.1,3.4,3.4,4.3,4.1,3.4,3.9,3.4,4.1,4.3,3.9,4.2,4.2,4.3,4.1,3.9,3.0,4.0,3.3,4.0,2.3,3.6,4.5,3.6,3.9,3.6,2.1,3.8,4.6,3.9,3.9],\"yaxis\":\"y\",\"type\":\"scatter\"}],                        {\"template\":{\"data\":{\"histogram2dcontour\":[{\"type\":\"histogram2dcontour\",\"colorbar\":{\"outlinewidth\":0,\"ticks\":\"\"},\"colorscale\":[[0.0,\"#0d0887\"],[0.1111111111111111,\"#46039f\"],[0.2222222222222222,\"#7201a8\"],[0.3333333333333333,\"#9c179e\"],[0.4444444444444444,\"#bd3786\"],[0.5555555555555556,\"#d8576b\"],[0.6666666666666666,\"#ed7953\"],[0.7777777777777778,\"#fb9f3a\"],[0.8888888888888888,\"#fdca26\"],[1.0,\"#f0f921\"]]}],\"choropleth\":[{\"type\":\"choropleth\",\"colorbar\":{\"outlinewidth\":0,\"ticks\":\"\"}}],\"histogram2d\":[{\"type\":\"histogram2d\",\"colorbar\":{\"outlinewidth\":0,\"ticks\":\"\"},\"colorscale\":[[0.0,\"#0d0887\"],[0.1111111111111111,\"#46039f\"],[0.2222222222222222,\"#7201a8\"],[0.3333333333333333,\"#9c179e\"],[0.4444444444444444,\"#bd3786\"],[0.5555555555555556,\"#d8576b\"],[0.6666666666666666,\"#ed7953\"],[0.7777777777777778,\"#fb9f3a\"],[0.8888888888888888,\"#fdca26\"],[1.0,\"#f0f921\"]]}],\"heatmap\":[{\"type\":\"heatmap\",\"colorbar\":{\"outlinewidth\":0,\"ticks\":\"\"},\"colorscale\":[[0.0,\"#0d0887\"],[0.1111111111111111,\"#46039f\"],[0.2222222222222222,\"#7201a8\"],[0.3333333333333333,\"#9c179e\"],[0.4444444444444444,\"#bd3786\"],[0.5555555555555556,\"#d8576b\"],[0.6666666666666666,\"#ed7953\"],[0.7777777777777778,\"#fb9f3a\"],[0.8888888888888888,\"#fdca26\"],[1.0,\"#f0f921\"]]}],\"heatmapgl\":[{\"type\":\"heatmapgl\",\"colorbar\":{\"outlinewidth\":0,\"ticks\":\"\"},\"colorscale\":[[0.0,\"#0d0887\"],[0.1111111111111111,\"#46039f\"],[0.2222222222222222,\"#7201a8\"],[0.3333333333333333,\"#9c179e\"],[0.4444444444444444,\"#bd3786\"],[0.5555555555555556,\"#d8576b\"],[0.6666666666666666,\"#ed7953\"],[0.7777777777777778,\"#fb9f3a\"],[0.8888888888888888,\"#fdca26\"],[1.0,\"#f0f921\"]]}],\"contourcarpet\":[{\"type\":\"contourcarpet\",\"colorbar\":{\"outlinewidth\":0,\"ticks\":\"\"}}],\"contour\":[{\"type\":\"contour\",\"colorbar\":{\"outlinewidth\":0,\"ticks\":\"\"},\"colorscale\":[[0.0,\"#0d0887\"],[0.1111111111111111,\"#46039f\"],[0.2222222222222222,\"#7201a8\"],[0.3333333333333333,\"#9c179e\"],[0.4444444444444444,\"#bd3786\"],[0.5555555555555556,\"#d8576b\"],[0.6666666666666666,\"#ed7953\"],[0.7777777777777778,\"#fb9f3a\"],[0.8888888888888888,\"#fdca26\"],[1.0,\"#f0f921\"]]}],\"surface\":[{\"type\":\"surface\",\"colorbar\":{\"outlinewidth\":0,\"ticks\":\"\"},\"colorscale\":[[0.0,\"#0d0887\"],[0.1111111111111111,\"#46039f\"],[0.2222222222222222,\"#7201a8\"],[0.3333333333333333,\"#9c179e\"],[0.4444444444444444,\"#bd3786\"],[0.5555555555555556,\"#d8576b\"],[0.6666666666666666,\"#ed7953\"],[0.7777777777777778,\"#fb9f3a\"],[0.8888888888888888,\"#fdca26\"],[1.0,\"#f0f921\"]]}],\"mesh3d\":[{\"type\":\"mesh3d\",\"colorbar\":{\"outlinewidth\":0,\"ticks\":\"\"}}],\"scatter\":[{\"fillpattern\":{\"fillmode\":\"overlay\",\"size\":10,\"solidity\":0.2},\"type\":\"scatter\"}],\"parcoords\":[{\"type\":\"parcoords\",\"line\":{\"colorbar\":{\"outlinewidth\":0,\"ticks\":\"\"}}}],\"scatterpolargl\":[{\"type\":\"scatterpolargl\",\"marker\":{\"colorbar\":{\"outlinewidth\":0,\"ticks\":\"\"}}}],\"bar\":[{\"error_x\":{\"color\":\"#2a3f5f\"},\"error_y\":{\"color\":\"#2a3f5f\"},\"marker\":{\"line\":{\"color\":\"#E5ECF6\",\"width\":0.5},\"pattern\":{\"fillmode\":\"overlay\",\"size\":10,\"solidity\":0.2}},\"type\":\"bar\"}],\"scattergeo\":[{\"type\":\"scattergeo\",\"marker\":{\"colorbar\":{\"outlinewidth\":0,\"ticks\":\"\"}}}],\"scatterpolar\":[{\"type\":\"scatterpolar\",\"marker\":{\"colorbar\":{\"outlinewidth\":0,\"ticks\":\"\"}}}],\"histogram\":[{\"marker\":{\"pattern\":{\"fillmode\":\"overlay\",\"size\":10,\"solidity\":0.2}},\"type\":\"histogram\"}],\"scattergl\":[{\"type\":\"scattergl\",\"marker\":{\"colorbar\":{\"outlinewidth\":0,\"ticks\":\"\"}}}],\"scatter3d\":[{\"type\":\"scatter3d\",\"line\":{\"colorbar\":{\"outlinewidth\":0,\"ticks\":\"\"}},\"marker\":{\"colorbar\":{\"outlinewidth\":0,\"ticks\":\"\"}}}],\"scattermapbox\":[{\"type\":\"scattermapbox\",\"marker\":{\"colorbar\":{\"outlinewidth\":0,\"ticks\":\"\"}}}],\"scatterternary\":[{\"type\":\"scatterternary\",\"marker\":{\"colorbar\":{\"outlinewidth\":0,\"ticks\":\"\"}}}],\"scattercarpet\":[{\"type\":\"scattercarpet\",\"marker\":{\"colorbar\":{\"outlinewidth\":0,\"ticks\":\"\"}}}],\"carpet\":[{\"aaxis\":{\"endlinecolor\":\"#2a3f5f\",\"gridcolor\":\"white\",\"linecolor\":\"white\",\"minorgridcolor\":\"white\",\"startlinecolor\":\"#2a3f5f\"},\"baxis\":{\"endlinecolor\":\"#2a3f5f\",\"gridcolor\":\"white\",\"linecolor\":\"white\",\"minorgridcolor\":\"white\",\"startlinecolor\":\"#2a3f5f\"},\"type\":\"carpet\"}],\"table\":[{\"cells\":{\"fill\":{\"color\":\"#EBF0F8\"},\"line\":{\"color\":\"white\"}},\"header\":{\"fill\":{\"color\":\"#C8D4E3\"},\"line\":{\"color\":\"white\"}},\"type\":\"table\"}],\"barpolar\":[{\"marker\":{\"line\":{\"color\":\"#E5ECF6\",\"width\":0.5},\"pattern\":{\"fillmode\":\"overlay\",\"size\":10,\"solidity\":0.2}},\"type\":\"barpolar\"}],\"pie\":[{\"automargin\":true,\"type\":\"pie\"}]},\"layout\":{\"autotypenumbers\":\"strict\",\"colorway\":[\"#636efa\",\"#EF553B\",\"#00cc96\",\"#ab63fa\",\"#FFA15A\",\"#19d3f3\",\"#FF6692\",\"#B6E880\",\"#FF97FF\",\"#FECB52\"],\"font\":{\"color\":\"#2a3f5f\"},\"hovermode\":\"closest\",\"hoverlabel\":{\"align\":\"left\"},\"paper_bgcolor\":\"white\",\"plot_bgcolor\":\"#E5ECF6\",\"polar\":{\"bgcolor\":\"#E5ECF6\",\"angularaxis\":{\"gridcolor\":\"white\",\"linecolor\":\"white\",\"ticks\":\"\"},\"radialaxis\":{\"gridcolor\":\"white\",\"linecolor\":\"white\",\"ticks\":\"\"}},\"ternary\":{\"bgcolor\":\"#E5ECF6\",\"aaxis\":{\"gridcolor\":\"white\",\"linecolor\":\"white\",\"ticks\":\"\"},\"baxis\":{\"gridcolor\":\"white\",\"linecolor\":\"white\",\"ticks\":\"\"},\"caxis\":{\"gridcolor\":\"white\",\"linecolor\":\"white\",\"ticks\":\"\"}},\"coloraxis\":{\"colorbar\":{\"outlinewidth\":0,\"ticks\":\"\"}},\"colorscale\":{\"sequential\":[[0.0,\"#0d0887\"],[0.1111111111111111,\"#46039f\"],[0.2222222222222222,\"#7201a8\"],[0.3333333333333333,\"#9c179e\"],[0.4444444444444444,\"#bd3786\"],[0.5555555555555556,\"#d8576b\"],[0.6666666666666666,\"#ed7953\"],[0.7777777777777778,\"#fb9f3a\"],[0.8888888888888888,\"#fdca26\"],[1.0,\"#f0f921\"]],\"sequentialminus\":[[0.0,\"#0d0887\"],[0.1111111111111111,\"#46039f\"],[0.2222222222222222,\"#7201a8\"],[0.3333333333333333,\"#9c179e\"],[0.4444444444444444,\"#bd3786\"],[0.5555555555555556,\"#d8576b\"],[0.6666666666666666,\"#ed7953\"],[0.7777777777777778,\"#fb9f3a\"],[0.8888888888888888,\"#fdca26\"],[1.0,\"#f0f921\"]],\"diverging\":[[0,\"#8e0152\"],[0.1,\"#c51b7d\"],[0.2,\"#de77ae\"],[0.3,\"#f1b6da\"],[0.4,\"#fde0ef\"],[0.5,\"#f7f7f7\"],[0.6,\"#e6f5d0\"],[0.7,\"#b8e186\"],[0.8,\"#7fbc41\"],[0.9,\"#4d9221\"],[1,\"#276419\"]]},\"xaxis\":{\"gridcolor\":\"white\",\"linecolor\":\"white\",\"ticks\":\"\",\"title\":{\"standoff\":15},\"zerolinecolor\":\"white\",\"automargin\":true,\"zerolinewidth\":2},\"yaxis\":{\"gridcolor\":\"white\",\"linecolor\":\"white\",\"ticks\":\"\",\"title\":{\"standoff\":15},\"zerolinecolor\":\"white\",\"automargin\":true,\"zerolinewidth\":2},\"scene\":{\"xaxis\":{\"backgroundcolor\":\"#E5ECF6\",\"gridcolor\":\"white\",\"linecolor\":\"white\",\"showbackground\":true,\"ticks\":\"\",\"zerolinecolor\":\"white\",\"gridwidth\":2},\"yaxis\":{\"backgroundcolor\":\"#E5ECF6\",\"gridcolor\":\"white\",\"linecolor\":\"white\",\"showbackground\":true,\"ticks\":\"\",\"zerolinecolor\":\"white\",\"gridwidth\":2},\"zaxis\":{\"backgroundcolor\":\"#E5ECF6\",\"gridcolor\":\"white\",\"linecolor\":\"white\",\"showbackground\":true,\"ticks\":\"\",\"zerolinecolor\":\"white\",\"gridwidth\":2}},\"shapedefaults\":{\"line\":{\"color\":\"#2a3f5f\"}},\"annotationdefaults\":{\"arrowcolor\":\"#2a3f5f\",\"arrowhead\":0,\"arrowwidth\":1},\"geo\":{\"bgcolor\":\"white\",\"landcolor\":\"#E5ECF6\",\"subunitcolor\":\"white\",\"showland\":true,\"showlakes\":true,\"lakecolor\":\"white\"},\"title\":{\"x\":0.05},\"mapbox\":{\"style\":\"light\"}}},\"xaxis\":{\"anchor\":\"y\",\"domain\":[0.0,1.0],\"title\":{\"text\":\"Price\"}},\"yaxis\":{\"anchor\":\"x\",\"domain\":[0.0,1.0],\"title\":{\"text\":\"Customer Rating\"}},\"legend\":{\"tracegroupgap\":0,\"itemsizing\":\"constant\"},\"margin\":{\"t\":60}},                        {\"responsive\": true}                    ).then(function(){\n",
       "                            \n",
       "var gd = document.getElementById('0aea95c1-f962-4a35-a681-53ec3e194bfd');\n",
       "var x = new MutationObserver(function (mutations, observer) {{\n",
       "        var display = window.getComputedStyle(gd).display;\n",
       "        if (!display || display === 'none') {{\n",
       "            console.log([gd, 'removed!']);\n",
       "            Plotly.purge(gd);\n",
       "            observer.disconnect();\n",
       "        }}\n",
       "}});\n",
       "\n",
       "// Listen for the removal of the full notebook cells\n",
       "var notebookContainer = gd.closest('#notebook-container');\n",
       "if (notebookContainer) {{\n",
       "    x.observe(notebookContainer, {childList: true});\n",
       "}}\n",
       "\n",
       "// Listen for the clearing of the current output cell\n",
       "var outputEl = gd.closest('.output');\n",
       "if (outputEl) {{\n",
       "    x.observe(outputEl, {childList: true});\n",
       "}}\n",
       "\n",
       "                        })                };                });            </script>        </div>"
      ]
     },
     "metadata": {},
     "output_type": "display_data"
    }
   ],
   "source": [
    "import plotly.express as px\n",
    "\n",
    "# Assuming you have a DataFrame called df_filtered with appropriate columns\n",
    "fig = px.scatter(df_filtered, x=\"Product Price\", y=\"Rating\", size=\"Number of Reviews\",\n",
    "                 labels={\"Product Price\": \"Price\", \"Rating\": \"Customer Rating\"}, hover_data= ['Product Name'])\n",
    "\n",
    "fig.show()"
   ]
  }
 ],
 "metadata": {
  "kernelspec": {
   "display_name": "Python 3 (ipykernel)",
   "language": "python",
   "name": "python3"
  },
  "language_info": {
   "codemirror_mode": {
    "name": "ipython",
    "version": 3
   },
   "file_extension": ".py",
   "mimetype": "text/x-python",
   "name": "python",
   "nbconvert_exporter": "python",
   "pygments_lexer": "ipython3",
   "version": "3.8.8"
  }
 },
 "nbformat": 4,
 "nbformat_minor": 5
}
